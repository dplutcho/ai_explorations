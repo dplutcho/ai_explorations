{
 "cells": [
  {
   "cell_type": "markdown",
   "id": "b3a2ff46-b75c-49fe-91ce-c80872fe18e1",
   "metadata": {
    "tags": []
   },
   "source": [
    "# Question Driven RAG\n",
    "\n",
    "## Introduction:\n",
    "* Goal is to show viability/affordance of question driven RAG on industry analyst data.\n",
    "* The idea is to create a more controlled and less burdensome dialog experience for the user that sticks closely to the data sources.\n",
    "* Two questions are generated from each chunk from two PDFs covering the 'Applications Security' landscape.\n",
    "* The PDFs are a few years old as newer analyst reports are proprietary. These were found freely available on the internet. \n",
    "* An OpenAI Assistant is created, manually in the OpenAI playground, using a large prompt containing all the extracted question and instructing the LLM to only answer/use these question.\n",
    "* This prompt suggests questions to guide the user in exploring this specific technology segment.\n",
    "* The Assistant is then used to answer these questions via PDF retrieval.\n",
    "* The OpenAI Assistant is accessed programmatically to demonstrate a dialog within this Jupyter Notebook.\n",
    "\n",
    "## A few lessons learned\n",
    "* Neither GPTs nor Assistants support Bing search (only ChatGPT does at this time).\n",
    "* Assistants do not support GPT-4v (Vision) at this time.\n",
    "* GPTs only use GPT-4 and don't have any way to utilize the larger context model that I needed for this POC."
   ]
  },
  {
   "cell_type": "markdown",
   "id": "569598c4-d396-44cb-abd8-e177529e2c56",
   "metadata": {
    "tags": []
   },
   "source": [
    "# Prep"
   ]
  },
  {
   "cell_type": "code",
   "execution_count": 25,
   "id": "2ecf9bb8-c218-4403-994e-7e67a8fdf4d5",
   "metadata": {
    "tags": []
   },
   "outputs": [],
   "source": [
    "# Install the Fitz library.\n",
    "# !pip install PyMuPDF"
   ]
  },
  {
   "cell_type": "code",
   "execution_count": 1,
   "id": "d6289a09-fd6f-4092-b92a-cef8f28ed9e0",
   "metadata": {
    "tags": []
   },
   "outputs": [],
   "source": [
    "# !pip install -U llama-index"
   ]
  },
  {
   "cell_type": "code",
   "execution_count": 2,
   "id": "909b6ba4-1f6f-4d2e-a43b-d1b14267c112",
   "metadata": {
    "tags": []
   },
   "outputs": [],
   "source": [
    "import os\n",
    "import re\n",
    "from tqdm import tqdm"
   ]
  },
  {
   "cell_type": "code",
   "execution_count": 8,
   "id": "a54b264c-82c4-42ab-a04c-01ad02fb0783",
   "metadata": {
    "tags": []
   },
   "outputs": [],
   "source": [
    "# os.environ['OPENAI_API_KEY'] = \"\""
   ]
  },
  {
   "cell_type": "code",
   "execution_count": 7,
   "id": "a4959c33-2360-4b2f-84c5-cbc05b7c7c30",
   "metadata": {
    "tags": []
   },
   "outputs": [],
   "source": [
    "from dotenv import load_dotenv\n",
    "load_dotenv(override=True)\n",
    "\n",
    "import openai\n",
    "openaikey = os.getenv('OPENAI_API_KEY')\n",
    "openai.api_key = openaikey"
   ]
  },
  {
   "cell_type": "markdown",
   "id": "4f0dfe05-2b53-45a1-9ef6-876c1020265d",
   "metadata": {
    "tags": []
   },
   "source": [
    "## Load & chunk pdf\n",
    "* Uses the Fitz library with some custom code to create fairly clean short chunks.\n",
    "* This process does not yet capture any metadata, as this is not needed for this quick exploration."
   ]
  },
  {
   "cell_type": "code",
   "execution_count": 13,
   "id": "2d278547-618f-42df-8dba-e7885cbca7ae",
   "metadata": {
    "tags": []
   },
   "outputs": [],
   "source": [
    "import fitz\n",
    "from fitz import FileDataError"
   ]
  },
  {
   "cell_type": "code",
   "execution_count": 14,
   "id": "34625e15-8889-40be-8cd8-407fc25b0d4a",
   "metadata": {
    "tags": []
   },
   "outputs": [],
   "source": [
    "def extract_pdf_chunks(pdf_file, min_words=10):\n",
    "    \"\"\" Extract paragraphs into a list. \"\"\"\n",
    "    passages = []\n",
    "    for page in pdf_file:\n",
    "        for block in page.get_text('blocks'):\n",
    "            txt = block[4].replace('\\n','')\n",
    "            txt = re.sub('\\\\.[\\d]+', '.', txt).replace('  ', ' ')\n",
    "            passages.append(txt)\n",
    "            \n",
    "    # Remove shorter stuff.\n",
    "    passages = [p.strip().strip().replace('  ', ' ').replace('  ', ' ') for p in passages]\n",
    "    passages = [p for p in passages if len(p.split(' '))>=min_words]\n",
    "    \n",
    "    return passages"
   ]
  },
  {
   "cell_type": "code",
   "execution_count": 20,
   "id": "c981f269-8bf6-4187-9f30-6aae48022691",
   "metadata": {
    "tags": []
   },
   "outputs": [],
   "source": [
    "def extract_pdf_content(fpath, min_words=20):\n",
    "    \"\"\" Extract text from a PDF file, and return a list of min-sized chunks.\"\"\"\n",
    "    # Extract text from the PDF\n",
    "    try:\n",
    "        pdf_file = fitz.open(fpath)\n",
    "    except FileDataError:\n",
    "        return {}\n",
    "    passages = extract_pdf_chunks(pdf_file, min_words=min_words)\n",
    "    title = pdf_file.metadata.get('title', '')\n",
    "    if title:\n",
    "        passages.insert(0, pdf_file.metadata.get('title', ''))\n",
    "    body_text = '\\n\\n'.join(passages)\n",
    "    pdf_file.close()\n",
    "    \n",
    "    return passages"
   ]
  },
  {
   "cell_type": "code",
   "execution_count": 21,
   "id": "b7a6c052-b376-4d29-9fbf-dfa8d1cd01cd",
   "metadata": {
    "tags": []
   },
   "outputs": [],
   "source": [
    "# # fpath_pdf = 'data_input/F5-031821-Forrester-Report-The-State-Of-Application-Security-in-2020.pdf'\n",
    "# fpath_pdf = 'data_input/esg-research-insights-paper-veracode.pdf'\n",
    "# passages = extract_pdf_content(fpath_pdf)\n",
    "# len(passages)"
   ]
  },
  {
   "cell_type": "code",
   "execution_count": 22,
   "id": "b5c2ef9a-7d18-4c4b-9d32-bc638ec39f98",
   "metadata": {
    "tags": []
   },
   "outputs": [],
   "source": [
    "# Load and chunk PDFs.\n",
    "# - Requires downloading these pdf into a local dirctory.\n",
    "pdf_dir = 'data_input/application_security'\n",
    "chunks_all = [extract_pdf_content(f\"{pdf_dir}/{pdf_name}\") \n",
    "              for pdf_name in os.listdir(pdf_dir) \n",
    "              if pdf_name.endswith('.pdf')]"
   ]
  },
  {
   "cell_type": "code",
   "execution_count": 23,
   "id": "f476ec33-df62-42ed-9d12-f92f2d583c93",
   "metadata": {
    "tags": []
   },
   "outputs": [
    {
     "data": {
      "text/plain": [
       "[58, 44]"
      ]
     },
     "execution_count": 23,
     "metadata": {},
     "output_type": "execute_result"
    }
   ],
   "source": [
    "# Chunks per pdf.\n",
    "[len(c) for c in chunks_all]"
   ]
  },
  {
   "cell_type": "code",
   "execution_count": 24,
   "id": "4b65024f-781e-45f3-8ef7-664bd96c5b32",
   "metadata": {
    "tags": []
   },
   "outputs": [
    {
     "data": {
      "text/plain": [
       "102"
      ]
     },
     "execution_count": 24,
     "metadata": {},
     "output_type": "execute_result"
    }
   ],
   "source": [
    "# total chunks.\n",
    "chunks = sum(chunks_all, [])\n",
    "len(chunks)"
   ]
  },
  {
   "cell_type": "code",
   "execution_count": 25,
   "id": "70ee9ee4-c566-46e4-b366-cab2ae0c55c3",
   "metadata": {
    "tags": []
   },
   "outputs": [
    {
     "name": "stdout",
     "output_type": "stream",
     "text": [
      "Most applications include externally sourced libraries, modules, and source code components, and it is commonplace to include open source code in many applications. As part of improving AppSec, 28% of respondents indicated that they will conduct regular composition analysis to understand the provenance of their software componentry.\n",
      "-------------------\n",
      "• AppSec importance is trending. Efficiency and compliance are driving AppSec usage, but a dichotomy of competing priorities—code functionality versus security—indicates that AppDev and security teams may need to come to a better understanding that these are not mutually exclusive outcomes.\n",
      "-------------------\n",
      "Cloud-first is the contemporary application deployment methodology, analogous to mobile-first AppDev. When deploying new or existing applications, organizations should consider and fully evaluate potential cloud solutions first before considering on-premises or legacy infrastructures. In many cases, cloud-first offers a leaner, more efficient, and more manageable approach to enterprise functionality than legacy architectures.\n",
      "-------------------\n",
      "Traditional application development distinguished between internal and external apps. There is a perception that internal apps have limited security risks and possibilities for compromise because they were hidden behind the corporate firewall, and were only used by internal employees. Externally facing apps, or apps with public users, were perceived to have much greater risk. This perception seems to explain the fact that 66% of respondents employ SAST for internal applications while only 51% employ DAST for internal applications.\n",
      "-------------------\n",
      "The Forrester Analytics Global Business Technographics® Security Survey, 2019, was fielded between April and June 2019. This online survey included 3,890 respondents in Australia, Canada, China, France, Germany, India, the UK, and the US from companies with two or more employees.\n",
      "-------------------\n",
      "Base: 282 to 753 global network path security decision makers whose frms are adopting SCASource: Forrester Analytics Global Business Technographics® Security Survey, 2019\n",
      "-------------------\n",
      "› Financial services and retail reduced application security almost across the board. The proportion of global security decision makers at financial services and insurance firms implementing a container security tool went down by 19 percentage points between 2018 and 2019, and the proportion implementing WAF decreased by eight percentage points — a disconcerting development in a year where one of the biggest financial services breaches, Capital One, was traced to a misconfigured WAF. In the retail space, the proportion of global security decision makers implementing API security fell by nine percentage points from 2018 to 2019. Both verticals showed smaller decreases in implementing most other application security protections, and almost no increases.\n",
      "-------------------\n",
      "Unsurprisingly, the requirements for DAST were similar to SAST, with workflow integration and ease of use both ranking as most important according to 34% of survey respondents. Accuracy and incorporation of malware detection were both cited by 33%, and support for both client- and server-side code testing was cited by 32% of respondents.\n",
      "-------------------\n",
      "Many contemporary applications must comply with security and security-related regulations, including the Health Insurance Portability and Accountability Act (HIPAA), the Sarbanes Oxley Act, the Federal Information Security Management Act of 2002 (FISMA), the Family Educational Rights and Privacy Act (FERPA), the Payment Card Industry Data Security Standard (PCI-DSS), the Gramm Leach Bliley Act (GLBA), and the General Data Protection Regulations (GDPR), among other acts and regulations. Developers also understand that finding and fixing vulnerabilities early in the development cycle provides more security and is more efficient than discovering vulnerabilities in production, or worse, learning the hard way that a vulnerability has been exploited by a successful cybersecurity attack. Thus, beyond best practices, developers were motivated to employ AppSec because of the need for regulatory compliance (53%), efficiency (43%), and corporate governance (40%) (see Figure 1).\n",
      "-------------------\n",
      "A separate ESG research survey demonstrates that the private sector quickly took notice of the cost reductions and increased efficiencies that come from adopting a cloud-first strategy. More than one-third (36%) of respondents indicated\n",
      "-------------------\n"
     ]
    }
   ],
   "source": [
    "# Peek at the chunks.\n",
    "from random import sample\n",
    "for c in sample(chunks, 10): \n",
    "    print(c),     print('-------------------')"
   ]
  },
  {
   "cell_type": "markdown",
   "id": "6193d0a6-669b-4952-8dc9-ec2ea7abc612",
   "metadata": {
    "tags": []
   },
   "source": [
    "## Question generation\n",
    "* Uses a simple prompt to extract two questions per chunk.\n",
    "* Using llamaindex and OpenAI gpt-4.\n",
    "* In the future I will evolve this prompt to extract as many questions as is approriate for each passage."
   ]
  },
  {
   "cell_type": "code",
   "execution_count": 26,
   "id": "07fd448b-d58b-403b-887c-6b0820cd194f",
   "metadata": {
    "tags": []
   },
   "outputs": [],
   "source": [
    "from llama_index.llms import OpenAI\n",
    "from llama_index.prompts import PromptTemplate\n",
    "\n",
    "openai = OpenAI(\n",
    "    model=\"gpt-4\",\n",
    "    max_new_tokens=500,\n",
    "    temperature=0.0)"
   ]
  },
  {
   "cell_type": "code",
   "execution_count": 59,
   "id": "b215a5e9-22c0-406e-a923-920af5d60f88",
   "metadata": {
    "tags": []
   },
   "outputs": [],
   "source": [
    "## Define the prompt.\n",
    "#\n",
    "\n",
    "quest_gen_str = \"\"\"Generate two key questions that this paragraph can answer. \\\n",
    "Make the questions very short and have them cover the main focus of this text. \n",
    "\n",
    "{text}\n",
    "\"\"\"\n",
    "quest_gen_template = PromptTemplate(quest_gen_str)"
   ]
  },
  {
   "cell_type": "code",
   "execution_count": 66,
   "id": "ba0e6e66-a356-40e6-8a7a-12d246ef790f",
   "metadata": {
    "tags": []
   },
   "outputs": [
    {
     "name": "stdout",
     "output_type": "stream",
     "text": [
      "Generate two key questions that this paragraph can answer. Make the questions very short and have them cover the main focus of this text. \n",
      "\n",
      "This ESG survey indicates that, as organizations have become more aware of cybersecurity threats, they are incorporating cybersecurity principles and tools into their contemporary software development and deployment methodologies.\n",
      "\n"
     ]
    }
   ],
   "source": [
    "# QC the prompt.\n",
    "text = chunks[10]\n",
    "prompt = quest_gen_template.format(text=text)\n",
    "print(prompt)"
   ]
  },
  {
   "cell_type": "code",
   "execution_count": 67,
   "id": "e80efb86-1d80-46a7-99f4-ac98b5b282af",
   "metadata": {
    "tags": []
   },
   "outputs": [
    {
     "name": "stdout",
     "output_type": "stream",
     "text": [
      "1. What are organizations incorporating into their software development methodologies due to increased awareness of cybersecurity threats?\n",
      "2. What does the ESG survey indicate about organizations' response to cybersecurity threats?\n"
     ]
    }
   ],
   "source": [
    "# Test process out on single chunk of text.\n",
    "questions = openai.complete(prompt)\n",
    "print(questions)"
   ]
  },
  {
   "cell_type": "code",
   "execution_count": 68,
   "id": "9b2a391e-c5d3-4c9c-813a-82c991272cfb",
   "metadata": {
    "tags": []
   },
   "outputs": [
    {
     "name": "stdout",
     "output_type": "stream",
     "text": [
      "This ESG survey indicates that, as organizations have become more aware of cybersecurity threats, they are incorporating cybersecurity principles and tools into their contemporary software development and deployment methodologies.\n"
     ]
    }
   ],
   "source": [
    "print(text)"
   ]
  },
  {
   "cell_type": "code",
   "execution_count": 69,
   "id": "24f9908a-006a-4ffa-947a-ddd7f840f9cc",
   "metadata": {
    "tags": []
   },
   "outputs": [
    {
     "name": "stderr",
     "output_type": "stream",
     "text": [
      "100%|██████████| 102/102 [03:48<00:00,  2.24s/it]"
     ]
    },
    {
     "name": "stdout",
     "output_type": "stream",
     "text": [
      "CPU times: user 1.01 s, sys: 46.6 ms, total: 1.06 s\n",
      "Wall time: 3min 48s\n"
     ]
    },
    {
     "name": "stderr",
     "output_type": "stream",
     "text": [
      "\n"
     ]
    }
   ],
   "source": [
    "%%time\n",
    "## Generated questions.\n",
    "#\n",
    "questions = []\n",
    "for chunk in tqdm(chunks):\n",
    "    prompt = quest_gen_template.format(text=chunk)\n",
    "    questions.append(openai.complete(prompt))"
   ]
  },
  {
   "cell_type": "code",
   "execution_count": 73,
   "id": "fe3f4e0e-45ce-415f-ada7-b86dd006c79d",
   "metadata": {
    "tags": []
   },
   "outputs": [
    {
     "name": "stdout",
     "output_type": "stream",
     "text": [
      "1. What is the correlation between Agile and DevOps adoption?\n",
      "2. How do organizations perceive the value of automating AppSec via DevOps?\n"
     ]
    }
   ],
   "source": [
    "print(questions[5])"
   ]
  },
  {
   "cell_type": "code",
   "execution_count": 79,
   "id": "abefccc7-cda6-4cc5-8689-7dee053afc67",
   "metadata": {
    "tags": []
   },
   "outputs": [
    {
     "data": {
      "text/plain": [
       "(102, 203)"
      ]
     },
     "execution_count": 79,
     "metadata": {},
     "output_type": "execute_result"
    }
   ],
   "source": [
    "# Convert strings of two questions into lists, and remove leading numbers.\n",
    "questions = [q.text for q in questions]\n",
    "questions = sum([q.split('\\n') for q in questions], []) # split the questions\n",
    "questions = [re.sub( r'(^\\d+\\.\\s)|(^\\d\\)+\\s)', '', q ) for q in questions]\n",
    "questions = list(set(questions))\n",
    "questions = sorted(questions)\n",
    "\n",
    "# Should be roughtly doble the number of chunks (outside of duplicates).\n",
    "len(chunks), len(questions)"
   ]
  },
  {
   "cell_type": "code",
   "execution_count": 80,
   "id": "89ffa278-3ee8-42cc-b2f9-bf7d046de74d",
   "metadata": {
    "tags": []
   },
   "outputs": [
    {
     "name": "stdout",
     "output_type": "stream",
     "text": [
      "Are the sessions available on-demand?\n",
      "Are you currently implementing these technologies in any phase of the application development lifecycle?\n",
      "Are you planning to implement software composition analysis in the application development lifecycle?\n",
      "Can the brand questions in the survey be used to measure market share?\n",
      "Does the majority of the software development team view AppSec as an impediment to AppDev?\n",
      "How are malicious actors evolving their cyber attack strategies?\n",
      "How are mobile- and cloud-first initiatives affecting the distinction between internal and external applications?\n",
      "How are mobile- and cloud-first initiatives affecting the distinction between internal and external data access?\n",
      "How can I connect with an analyst for research assistance?\n",
      "How can SAST, DAST, and composition analysis enhance application security and efficiency?\n",
      "How can autoremediation benefit development and security resources?\n",
      "How can firms manage the risk of vulnerabilities in open source and container images?\n",
      "How can research be translated into action?\n",
      "How can security pros meet the needs of developers?\n",
      "How can working with Forrester thought leaders improve decision-making confidence?\n",
      "How did the business services and manufacturing sectors distribute their app sec investments?\n",
      "How did the implementation of container security tools and WAF change in financial services and insurance firms between 2018 and 2019?\n",
      "How did traditional development organizations handle security?\n",
      "How do attackers compromise modern applications?\n",
      "How do contemporary AppDev and DevOps methodologies enhance security?\n",
      "How do contemporary methodologies like Agile and DevOps impact teamwork and communication in software development?\n",
      "How do leading players in the SCA space help identify and fix OSS vulnerabilities?\n",
      "How do mobile- and cloud-first initiatives affect the distinction between internal and external applications?\n",
      "How do organizations perceive the value of automating AppSec via DevOps?\n",
      "How do these shifts in security measures help development teams?\n",
      "How does AppSec enhance collaboration in software development?\n",
      "How does DevOps improve operational efficiency in cybersecurity?\n",
      "How does DevOps integrate with other teams in an organization?\n",
      "How does automating AppSec as part of the process help alleviate challenges from the global cybersecurity skills shortage?\n",
      "How does automation impact the speed of fixing flaws in applications?\n",
      "How does communication between developer and security teams influence the software development lifecycle?\n",
      "How does integrating and automating SAST, DAST, and composition analysis into AppDev and DevOps environments enhance security and efficiency?\n",
      "How does the complexity of an application affect its vulnerability to attacks?\n",
      "How does the speed of development affect security tools and processes?\n",
      "How does the switch from DAST to IAST benefit firms?\n",
      "How extensively is Agile used in development efforts according to the ESG survey?\n",
      "How has application development evolved over time?\n",
      "How has the digital landscape changed application development and deployment?\n",
      "How has the implementation of WAF and penetration testing tools changed from 2018 to 2019?\n",
      "How has the importance of AppSec changed over the years according to ESG's research?\n",
      "How has the number of reported open source vulnerabilities changed from 2018 to 2019?\n",
      "How is application architecture evolving?\n",
      "How many federal data centers had closed or were scheduled to close by 2014?\n",
      "How many organizations are evaluating the benefits of composition analysis?\n",
      "How many organizations say they have extensively adopted DevOps?\n",
      "How many respondents said that the security team participates in daily scrums and planning meetings?\n",
      "How many respondents weigh on-premises technology and public cloud services equally?\n",
      "How often does the cross-functional development team meet?\n",
      "How should the autoremediation support be expanded over time?\n",
      "How were internal and external apps tested differently?\n",
      "What are malicious actors targeting in new applications?\n",
      "What are organizations incorporating into their software development methodologies due to increased awareness of cybersecurity threats?\n",
      "What are organizations investing in to enhance their security posture according to the survey?\n",
      "What are some of the security-related regulations contemporary applications must comply with?\n",
      "What are the benefits of SCA implementations in the development process?\n",
      "What are the components of this research and development process?\n",
      "What are the consequences of unauthorized reproduction or redistribution of the publication?\n",
      "What are the examples of AppSec tools and services mentioned in the text?\n",
      "What are the key focuses of Agile development?\n",
      "What are the major obstacles to organizations employing AppSec tools?\n",
      "What are the major reasons for employing SAST, DAST, or third-party security measures in your organization?\n",
      "What are the obstacles for AppSec adoption?\n",
      "What are the obstacles to greater adoption of AppSec?\n",
      "What are the options for discussing my research questions with an analyst?\n",
      "What are the other considerations when evaluating SAST tools?\n",
      "What are the requirements for an AppSec solution according to ESG research?\n",
      "What are the top two causes of external security breaches in organizations?\n",
      "What are the two purposes of automated scanning within the developer's IDE?\n",
      "What benefits did the private sector notice from adopting a cloud-first strategy?\n",
      "What benefits do emerging autoremediation features provide to dev teams?\n",
      "What benefits do organizations gain from AppSec?\n",
      "What challenges are security professionals facing with new application languages and delivery methods?\n",
      "What challenges have been created for AppSec solutions?\n",
      "What changes occurred in the implementation of API security in the retail space from 2018 to 2019?\n",
      "What conclusions were drawn from the data collected in the research survey?\n",
      "What could the spread of their application security investments indicate about these industries?\n",
      "What countries and organization sizes were represented in the survey?\n",
      "What determined the type of AppSec tool used for security testing in the past?\n",
      "What did the endpoint systems affected by the WannaCry ransomware attack have in common?\n",
      "What do SCA tools provide for developers?\n",
      "What do firms need to effectively identify and train developer security champions?\n",
      "What does AppSec help developers with?\n",
      "What does Forrester Analytics' Business Technographics ensure about the survey population?\n",
      "What does the ESG survey indicate about organizations' response to cybersecurity threats?\n",
      "What does the research by ESG reveal about developers' view on security?\n",
      "What factors are increasing the complexity of cybersecurity?\n",
      "What forms can an engagement with an analyst take?\n",
      "What impact do mobile- and cloud-first initiatives have on AppSec priorities?\n",
      "What incentives do survey respondents receive?\n",
      "What industries were represented in the survey and what percentage of organizations develop software internally?\n",
      "What is a common practice in improving AppSec according to the respondents?\n",
      "What is a top priority for global development managers in the coming year?\n",
      "What is commonplace to include in most applications?\n",
      "What is driving AppSec usage?\n",
      "What is included in the online sessions?\n",
      "What is known about the Capital One hacking case?\n",
      "What is mobile-first development?\n",
      "What is more efficient, correcting security defects in the development stage or patching production systems?\n",
      "What is the Forrester report about?\n",
      "What is the cloud-first application deployment methodology?\n",
      "What is the consequence of unauthorized copying or distributing of Forrester Research, Inc.'s content?\n",
      "What is the context of cybersecurity discussed in the analysis?\n",
      "What is the correlation between Agile and DevOps adoption?\n",
      "What is the current and projected future trend in the implementation of IAST and DAST in the development phase?\n",
      "What is the dichotomy of competing priorities in AppSec?\n",
      "What is the emerging technology promising to replace DAST tools?\n",
      "What is the focus of Doug Cahill and Jack Poller's 2017 analysis?\n",
      "What is the focus of the firms represented by the respondents in the survey?\n",
      "What is the frequency of reporting security vulnerabilities by AppDev teams?\n",
      "What is the future expectation for autoremediation features?\n",
      "What is the goal of fostering communication between application development and security teams?\n",
      "What is the impact of open source vulnerabilities on modern development and container security?\n",
      "What is the importance of using SCA early in the SDLC?\n",
      "What is the main focus of DevOps in application deployment?\n",
      "What is the main topic of the Forrester Blogs post from March 23, 2020?\n",
      "What is the most common external attack method?\n",
      "What is the most important criterion when evaluating SAST tools according to the respondents?\n",
      "What is the most important metric developers are evaluated on?\n",
      "What is the most important tool selection criteria in AppDev and DevOps processes?\n",
      "What is the need for operationalizing AppSec with DevOps?\n",
      "What is the new type of cyber-attack that has gained prominence recently?\n",
      "What is the next step needed to ensure security in every facet of Agile and DevSecOps?\n",
      "What is the perceived difference in security risks between internal and external apps?\n",
      "What is the perceived effect of DevOps on the development process?\n",
      "What is the percentage of organizations that have not formally adopted DevOps?\n",
      "What is the potential risk of autoremediation?\n",
      "What is the proposed solution to enhance security in application development and deployment?\n",
      "What is the purpose of Forrester Analytics' Business Technographics brand questions?\n",
      "What is the role of Forrester's research in business and technology initiatives?\n",
      "What is the role of a chief information security officer (CISO) in organizations?\n",
      "What is the role of developer security champions in a dev team?\n",
      "What is the source of the information about SCASource adoption?\n",
      "What is the suggested solution to operationalize AppSec?\n",
      "What is the trend in implementing prerelease security scanning in the SDLC?\n",
      "What is the trend in the speed of development teams' work?\n",
      "What measures should be taken to ensure application security in remote work situations?\n",
      "What motivates developers to employ AppSec?\n",
      "What must application developers understand for effective AppSec?\n",
      "What new concerns do security professionals have with the rise of new architectures and frameworks?\n",
      "What percentage of AppDev teams do not track or report security defects?\n",
      "What percentage of ESG research participants plan to increase their application security investment?\n",
      "What percentage of IT decision makers believe DevOps has made development teams' jobs easier?\n",
      "What percentage of developers are primarily measured on the security of their code?\n",
      "What percentage of organizations fully integrate security throughout the software development lifecycle (SDLC)?\n",
      "What percentage of organizations have adopted Agile as their AppDev methodology?\n",
      "What percentage of participants in the ESG research work collaboratively to prioritize security-related defects?\n",
      "What percentage of respondents chose to employ SAST, DAST, or third-party security measures in their organization?\n",
      "What percentage of respondents cited support for both client- and server-side code testing as important?\n",
      "What percentage of respondents conduct composition analysis on a scheduled basis?\n",
      "What percentage of respondents employ SAST and DAST for internal applications?\n",
      "What percentage of respondents employ a cloud-first deployment methodology?\n",
      "What percentage of respondents find correcting security defects in the development stage more efficient?\n",
      "What percentage of respondents indicated collaboration between AppDev and security to prioritize security defects?\n",
      "What percentage of respondents indicated noticing these benefits?\n",
      "What percentage of respondents indicated that DevOps enabled automation of DAST for continuous monitoring of web apps and for test and SQA before deployment?\n",
      "What percentage of respondents indicated that best practices were a major driver behind the adoption of AppSec tools and services?\n",
      "What percentage of security professionals plan to implement container security in the development and design phases in the next 12 months?\n",
      "What percentage of surveyed individuals view security as a hindrance in software development?\n",
      "What responsibilities did the 465 security decision makers have?\n",
      "What security measures are firms integrating into the development phase of the software lifecycle?\n",
      "What security measures do the public sector and utilities focus on?\n",
      "What security testing methods will developers be required to perform in the next 12 to 24 months?\n",
      "What security tools have public sector, healthcare, and utilities organizations focused on?\n",
      "What services are offered in this program?\n",
      "What services does Enterprise Strategy Group provide?\n",
      "What should become a best practice in app development and security according to the research results?\n",
      "What should software development policies and training for autoremediation include?\n",
      "What should the DevSecOps process automate?\n",
      "What special pricing does Forrester offer?\n",
      "What stages of the SDLC are container security efforts currently leaning towards?\n",
      "What steps should security leaders take to improve their programs?\n",
      "What team is the security team a part of?\n",
      "What technologies are the firms of the surveyed decision makers adopting?\n",
      "What tools can be used to maintain an updated inventory of all third-party code and components?\n",
      "What types of security testing should be applied to every application?\n",
      "What was the purpose of this research project on the new application security ecosystem?\n",
      "What was the role of the participants in the survey conducted by Veracode and ESG?\n",
      "What were the consequences of security being an afterthought in app development?\n",
      "What were the most important requirements for DAST according to the survey respondents?\n",
      "What were the responsibilities of the decision makers surveyed in the Forrester Analytics Global Business Technographics® Security Surveys?\n",
      "When are you planning to implement these technologies in the application development lifecycle?\n",
      "When is software composition analysis implemented in the application development lifecycle?\n",
      "When was the Forrester Analytics Global Business Technographics® Security Survey conducted?\n",
      "When was the cloud-first mandate issued for all US federal agencies?\n",
      "Which countries were included in the survey?\n",
      "Which industries scaled back their application security investments?\n",
      "Who are the authors of the \"Agile, DevOps, And COVID-19\" blog post?\n",
      "Who are the decision makers in global network path security?\n",
      "Who are the main respondents in the Forrester Analytics Global Business Technographics® Security Survey, 2019?\n",
      "Who can access the applications and what kind of data can be exchanged between multiple apps?\n",
      "Who conducted a survey on application security requirements in 2017?\n",
      "Who is the target audience of Enterprise Strategy Group?\n",
      "Who owns the copyrights to the publication?\n",
      "Who owns the trademarks for Forrester®, Technographics®, Forrester Wave, TechRadar, and Total Economic Impact?\n",
      "Who participated in the Forrester Analytics Global Business Technographics® Security Survey in 2019?\n",
      "Who participated in the Forrester Analytics Global Business Technographics® Security Surveys in 2018 and 2019?\n",
      "Who reported on the Capital One hacking case?\n",
      "Who should be contacted for information on reprints?\n",
      "Why aren't some developers incorporating security testing into the software development lifecycle?\n",
      "Why is it important for firms to focus on application security prerelease scanning?\n",
      "Why is it urgent to integrate application security into the development process?\n",
      "Why is securing applications still a challenge for organizations?\n",
      "Why should organizations consider cloud-first before on-premises or legacy infrastructures?\n"
     ]
    }
   ],
   "source": [
    "# Show all questions.\n",
    "print('\\n'.join(sorted(questions)))"
   ]
  },
  {
   "cell_type": "markdown",
   "id": "433daf26-c02d-4910-841b-23d55376d258",
   "metadata": {
    "tags": []
   },
   "source": [
    "# Question Driven RAG\n",
    "\n",
    "# Assistant Creation\n",
    "https://platform.openai.com/docs/assistants/overview\n",
    "\n",
    "Notes\n",
    "* I created an Assistant using the playground GUI.\n",
    "* Note that this can also be done via the API, but the GUI is a quick way to set up and test the prompt etc.\n",
    "* It's composed of a prompt utilizing all the generated questions along with the Retrieval tool enabled for our two attached pdfs.\n",
    "* In order to use all questions, I utilized the much larger gpt-4-1106-preview model which has a very large context window = 128k tokens.\n"
   ]
  },
  {
   "attachments": {
    "7e7d6aa4-bb4c-48c7-9fb0-d81e121ccf9a.png": {
     "image/png": "[encoded data removed]"
    }
   },
   "cell_type": "markdown",
   "id": "6f483bcc-5d82-4a5b-a090-57daae5ccbbe",
   "metadata": {},
   "source": [
    "![Screen_Capture_-_Jan_1__12_03_PM.png](attachment:7e7d6aa4-bb4c-48c7-9fb0-d81e121ccf9a.png)"
   ]
  },
  {
   "cell_type": "code",
   "execution_count": null,
   "id": "7d6067ec-4a5e-4262-913b-67f449ca2dd5",
   "metadata": {
    "jp-MarkdownHeadingCollapsed": true,
    "tags": []
   },
   "outputs": [],
   "source": [
    "INITIALIZATION INSTRUCTIONS:\n",
    "- Follow this instructions section if no input is provided by the user or an empty string is proviced from the user.\n",
    "- Start by saying \"Please explore our analyst knowledge store by selection an Application Security question below\" \n",
    "- Then list five numbered questions from the QUESTION LIST.\n",
    "- Be sure to choose the most interesting questions about Application Security and the processes and technologies involved and their trends.\n",
    "- Skip the DIALOG INSTRUCTIONS.\n",
    "\n",
    "DIALOG INSTRUCTIONS:\n",
    "- Follow this instruction section if the users provides an input.\n",
    "- Conduct a question-answer dialog session using the listed questions below and the answers as found in the attached PDF documents. Follow there rules\n",
    "- If the user asks a question that isn't in the list let them know that you can only answer a specific set of questions that are appropriate for the 'Application Security' dataset.\n",
    "- Respond to the user with a concise but useful answer to the question drawn directly from the attached documents.\n",
    "- Follow your answer with two lists of question for the user to select from. A template for the response questions is shown below. This template should be stylised using markdown\n",
    "- The first list should have three numbered question closely related to the user's previously selected question. This list should be under the 'Related questions' heading.\n",
    "- The second list shoule should have two random questions and be under the headking 'Other questions'. These should be numbered 4. and 5.\n",
    "- Avoid listing repeated questions especially ones already selected by the user since they will want to see fresh new questions.\n",
    "- The user can choose the question they are interested in from this numbered list by simply entering the number and you will then answer that question.\n",
    "- Avoid mentioning the document pdf titles or their authors. If there is a survey just respond with the info from the survey without using the word 'survey'.\n",
    "\n",
    "QUESTION RESPONSE LISTING TEMPLATE:\n",
    "Related Questions\n",
    "-----------------\n",
    "1. question\n",
    "2. question\n",
    "3. question\n",
    "\n",
    "Other questions\n",
    "---------------\n",
    "4. question\n",
    "5. question\n",
    "\n",
    "QUESTION LIST:\n",
    "\n",
    "Are the sessions available on-demand?\n",
    "Are you currently implementing these technologies in any phase of the application development lifecycle?\n",
    "Are you planning to implement software composition analysis in the application development lifecycle?\n",
    "Can the brand questions in the survey be used to measure market share?\n",
    "Does the majority of the software development team view AppSec as an impediment to AppDev?\n",
    "How are malicious actors evolving their cyber attack strategies?\n",
    "How are mobile- and cloud-first initiatives affecting the distinction between internal and external applications?\n",
    "How are mobile- and cloud-first initiatives affecting the distinction between internal and external data access?\n",
    "How can I connect with an analyst for research assistance?\n",
    "How can SAST, DAST, and composition analysis enhance application security and efficiency?\n",
    "How can autoremediation benefit development and security resources?\n",
    "How can firms manage the risk of vulnerabilities in open source and container images?\n",
    "How can research be translated into action?\n",
    "How can security pros meet the needs of developers?\n",
    "How did the business services and manufacturing sectors distribute their app sec investments?\n",
    "How did the implementation of container security tools and WAF change in financial services and insurance firms between 2018 and 2019?\n",
    "How did traditional development organizations handle security?\n",
    "How do attackers compromise modern applications?\n",
    "How do contemporary AppDev and DevOps methodologies enhance security?\n",
    "How do contemporary methodologies like Agile and DevOps impact teamwork and communication in software development?\n",
    "How do leading players in the SCA space help identify and fix OSS vulnerabilities?\n",
    "How do mobile- and cloud-first initiatives affect the distinction between internal and external applications?\n",
    "How do organizations perceive the value of automating AppSec via DevOps?\n",
    "How do these shifts in security measures help development teams?\n",
    "How does AppSec enhance collaboration in software development?\n",
    "How does DevOps improve operational efficiency in cybersecurity?\n",
    "How does DevOps integrate with other teams in an organization?\n",
    "How does automating AppSec as part of the process help alleviate challenges from the global cybersecurity skills shortage?\n",
    "How does automation impact the speed of fixing flaws in applications?\n",
    "How does communication between developer and security teams influence the software development lifecycle?\n",
    "How does integrating and automating SAST, DAST, and composition analysis into AppDev and DevOps environments enhance security and efficiency?\n",
    "How does the complexity of an application affect its vulnerability to attacks?\n",
    "How does the speed of development affect security tools and processes?\n",
    "How does the switch from DAST to IAST benefit firms?\n",
    "How extensively is Agile used in development efforts according to the ESG survey?\n",
    "How has application development evolved over time?\n",
    "How has the digital landscape changed application development and deployment?\n",
    "How has the implementation of WAF and penetration testing tools changed from 2018 to 2019?\n",
    "How has the importance of AppSec changed over the years according to ESG's research?\n",
    "How has the number of reported open source vulnerabilities changed from 2018 to 2019?\n",
    "How is application architecture evolving?\n",
    "How many federal data centers had closed or were scheduled to close by 2014?\n",
    "How many organizations are evaluating the benefits of composition analysis?\n",
    "How many organizations say they have extensively adopted DevOps?\n",
    "How many respondents said that the security team participates in daily scrums and planning meetings?\n",
    "How many respondents weigh on-premises technology and public cloud services equally?\n",
    "How often does the cross-functional development team meet?\n",
    "How should the autoremediation support be expanded over time?\n",
    "How were internal and external apps tested differently?\n",
    "What are malicious actors targeting in new applications?\n",
    "What are organizations incorporating into their software development methodologies due to increased awareness of cybersecurity threats?\n",
    "What are organizations investing in to enhance their security posture according to the survey?\n",
    "What are some of the security-related regulations contemporary applications must comply with?\n",
    "What are the benefits of SCA implementations in the development process?\n",
    "What are the components of this research and development process?\n",
    "What are the examples of AppSec tools and services mentioned in the text?\n",
    "What are the key focuses of Agile development?\n",
    "What are the major obstacles to organizations employing AppSec tools?\n",
    "What are the major reasons for employing SAST, DAST, or third-party security measures in your organization?\n",
    "What are the obstacles for AppSec adoption?\n",
    "What are the obstacles to greater adoption of AppSec?\n",
    "What are the options for discussing my research questions with an analyst?\n",
    "What are the other considerations when evaluating SAST tools?\n",
    "What are the requirements for an AppSec solution according to ESG research?\n",
    "What are the top two causes of external security breaches in organizations?\n",
    "What are the two purposes of automated scanning within the developer's IDE?\n",
    "What benefits did the private sector notice from adopting a cloud-first strategy?\n",
    "What benefits do emerging autoremediation features provide to dev teams?\n",
    "What benefits do organizations gain from AppSec?\n",
    "What challenges are security professionals facing with new application languages and delivery methods?\n",
    "What challenges have been created for AppSec solutions?\n",
    "What changes occurred in the implementation of API security in the retail space from 2018 to 2019?\n",
    "What conclusions were drawn from the data collected in the research survey?\n",
    "What could the spread of their application security investments indicate about these industries?\n",
    "What countries and organization sizes were represented in the survey?\n",
    "What determined the type of AppSec tool used for security testing in the past?\n",
    "What did the endpoint systems affected by the WannaCry ransomware attack have in common?\n",
    "What do SCA tools provide for developers?\n",
    "What do firms need to effectively identify and train developer security champions?\n",
    "What does AppSec help developers with?\n",
    "What does Forrester Analytics' Business Technographics ensure about the survey population?\n",
    "What does the ESG survey indicate about organizations' response to cybersecurity threats?\n",
    "What does the research by ESG reveal about developers' view on security?\n",
    "What factors are increasing the complexity of cybersecurity?\n",
    "What forms can an engagement with an analyst take?\n",
    "What impact do mobile- and cloud-first initiatives have on AppSec priorities?\n",
    "What incentives do survey respondents receive?\n",
    "What industries were represented in the survey and what percentage of organizations develop software internally?\n",
    "What is a common practice in improving AppSec according to the respondents?\n",
    "What is a top priority for global development managers in the coming year?\n",
    "What is commonplace to include in most applications?\n",
    "What is driving AppSec usage?\n",
    "What is included in the online sessions?\n",
    "What is known about the Capital One hacking case?\n",
    "What is mobile-first development?\n",
    "What is more efficient, correcting security defects in the development stage or patching production systems?\n",
    "What is the cloud-first application deployment methodology?\n",
    "What is the context of cybersecurity discussed in the analysis?\n",
    "What is the correlation between Agile and DevOps adoption?\n",
    "What is the current and projected future trend in the implementation of IAST and DAST in the development phase?\n",
    "What is the dichotomy of competing priorities in AppSec?\n",
    "What is the emerging technology promising to replace DAST tools?\n",
    "What is the focus of Doug Cahill and Jack Poller's 2017 analysis?\n",
    "What is the focus of the firms represented by the respondents in the survey?\n",
    "What is the frequency of reporting security vulnerabilities by AppDev teams?\n",
    "What is the future expectation for autoremediation features?\n",
    "What is the goal of fostering communication between application development and security teams?\n",
    "What is the impact of open source vulnerabilities on modern development and container security?\n",
    "What is the importance of using SCA early in the SDLC?\n",
    "What is the main focus of DevOps in application deployment?\n",
    "What is the most common external attack method?\n",
    "What is the most important criterion when evaluating SAST tools according to the respondents?\n",
    "What is the most important metric developers are evaluated on?\n",
    "What is the most important tool selection criteria in AppDev and DevOps processes?\n",
    "What is the need for operationalizing AppSec with DevOps?\n",
    "What is the new type of cyber-attack that has gained prominence recently?\n",
    "What is the next step needed to ensure security in every facet of Agile and DevSecOps?\n",
    "What is the perceived difference in security risks between internal and external apps?\n",
    "What is the perceived effect of DevOps on the development process?\n",
    "What is the percentage of organizations that have not formally adopted DevOps?\n",
    "What is the potential risk of autoremediation?\n",
    "What is the proposed solution to enhance security in application development and deployment?\n",
    "What is the role of a chief information security officer (CISO) in organizations?\n",
    "What is the role of developer security champions in a dev team?\n",
    "What is the source of the information about SCASource adoption?\n",
    "What is the suggested solution to operationalize AppSec?\n",
    "What is the trend in implementing prerelease security scanning in the SDLC?\n",
    "What is the trend in the speed of development teams' work?\n",
    "What measures should be taken to ensure application security in remote work situations?\n",
    "What motivates developers to employ AppSec?\n",
    "What must application developers understand for effective AppSec?\n",
    "What new concerns do security professionals have with the rise of new architectures and frameworks?\n",
    "What percentage of AppDev teams do not track or report security defects?\n",
    "What percentage of ESG research participants plan to increase their application security investment?\n",
    "What percentage of IT decision makers believe DevOps has made development teams' jobs easier?\n",
    "What percentage of developers are primarily measured on the security of their code?\n",
    "What percentage of organizations fully integrate security throughout the software development lifecycle (SDLC)?\n",
    "What percentage of organizations have adopted Agile as their AppDev methodology?\n",
    "What percentage of participants in the ESG research work collaboratively to prioritize security-related defects?\n",
    "What percentage of respondents chose to employ SAST, DAST, or third-party security measures in their organization?\n",
    "What percentage of respondents cited support for both client- and server-side code testing as important?\n",
    "What percentage of respondents conduct composition analysis on a scheduled basis?\n",
    "What percentage of respondents employ SAST and DAST for internal applications?\n",
    "What percentage of respondents employ a cloud-first deployment methodology?\n",
    "What percentage of respondents find correcting security defects in the development stage more efficient?\n",
    "What percentage of respondents indicated collaboration between AppDev and security to prioritize security defects?\n",
    "What percentage of respondents indicated noticing these benefits?\n",
    "What percentage of respondents indicated that DevOps enabled automation of DAST for continuous monitoring of web apps and for test and SQA before deployment?\n",
    "What percentage of respondents indicated that best practices were a major driver behind the adoption of AppSec tools and services?\n",
    "What percentage of security professionals plan to implement container security in the development and design phases in the next 12 months?\n",
    "What percentage of surveyed individuals view security as a hindrance in software development?\n",
    "What responsibilities did the 465 security decision makers have?\n",
    "What security measures are firms integrating into the development phase of the software lifecycle?\n",
    "What security measures do the public sector and utilities focus on?\n",
    "What security testing methods will developers be required to perform in the next 12 to 24 months?\n",
    "What security tools have public sector, healthcare, and utilities organizations focused on?\n",
    "What services are offered in this program?\n",
    "What services does Enterprise Strategy Group provide?\n",
    "What should become a best practice in app development and security according to the research results?\n",
    "What should software development policies and training for autoremediation include?\n",
    "What should the DevSecOps process automate?\n",
    "What stages of the SDLC are container security efforts currently leaning towards?\n",
    "What steps should security leaders take to improve their programs?\n",
    "What team is the security team a part of?\n",
    "What technologies are the firms of the surveyed decision makers adopting?\n",
    "What tools can be used to maintain an updated inventory of all third-party code and components?\n",
    "What types of security testing should be applied to every application?\n",
    "What was the purpose of this research project on the new application security ecosystem?\n",
    "What was the role of the participants in the survey conducted by Veracode and ESG?\n",
    "What were the consequences of security being an afterthought in app development?\n",
    "What were the most important requirements for DAST according to the survey respondents?\n",
    "What were the responsibilities of the decision makers surveyed in the Forrester Analytics Global Business Technographics® Security Surveys?\n",
    "When are you planning to implement these technologies in the application development lifecycle?\n",
    "When is software composition analysis implemented in the application development lifecycle?\n",
    "When was the Forrester Analytics Global Business Technographics® Security Survey conducted?\n",
    "When was the cloud-first mandate issued for all US federal agencies?\n",
    "Which countries were included in the survey?\n",
    "Which industries scaled back their application security investments?\n",
    "Who are the authors of the \"Agile, DevOps, And COVID-19\" blog post?\n",
    "Who are the decision makers in global network path security?\n",
    "Who are the main respondents in the Forrester Analytics Global Business Technographics® Security Survey, 2019?\n",
    "Who can access the applications and what kind of data can be exchanged between multiple apps?\n",
    "Who conducted a survey on application security requirements in 2017?\n",
    "Who is the target audience of Enterprise Strategy Group?\n",
    "Who participated in the Forrester Analytics Global Business Technographics® Security Survey in 2019?\n",
    "Who participated in the Forrester Analytics Global Business Technographics® Security Surveys in 2018 and 2019?\n",
    "Who reported on the Capital One hacking case?\n",
    "Who should be contacted for information on reprints?\n",
    "Why aren't some developers incorporating security testing into the software development lifecycle?\n",
    "Why is it important for firms to focus on application security prerelease scanning?\n",
    "Why is it urgent to integrate application security into the development process?\n",
    "Why is securing applications still a challenge for organizations?\n",
    "Why should organizations consider cloud-first before on-premises or legacy infrastructures?\n",
    "\n",
    "SUGGESTED QUESTIONS:"
   ]
  },
  {
   "cell_type": "markdown",
   "id": "4a792edc-71a6-4161-b9b9-d08d86620e73",
   "metadata": {
    "tags": []
   },
   "source": [
    "# Assistants dialog - llamaindex\n",
    "* Use the already created Assistant to demonstrate a question driven dialog.\n",
    "* Chose to use llamaIndex rather than the Assistants API directly as part of initial exploration of llamaIndex.\n",
    "* Dialog is quite slow do to GPT-4 response time.\n",
    "* Dialog returns answers but also follow-on question the user might want to have answered.\n",
    "* The 'Other questions' section is to allow the user to break out of their existing line of questioning by provided less-related questions to choose from."
   ]
  },
  {
   "cell_type": "code",
   "execution_count": 27,
   "id": "be813e5f-a670-459b-8702-4d99c2d709a8",
   "metadata": {
    "tags": []
   },
   "outputs": [],
   "source": [
    "from openai import OpenAI\n",
    "client = OpenAI()"
   ]
  },
  {
   "cell_type": "code",
   "execution_count": 28,
   "id": "54fa022f-b9a8-49a7-ba58-0e876d72e7b8",
   "metadata": {
    "tags": []
   },
   "outputs": [],
   "source": [
    "from llama_index.agent import OpenAIAssistantAgent\n",
    "from IPython.display import Markdown, display"
   ]
  },
  {
   "cell_type": "code",
   "execution_count": 29,
   "id": "7e9da87b-5fa6-4c3b-b67b-e117a2f0754d",
   "metadata": {
    "tags": []
   },
   "outputs": [],
   "source": [
    "agent = OpenAIAssistantAgent.from_existing('asst_P9f9dqPaa4G6WPx10sPpvTEO')"
   ]
  },
  {
   "cell_type": "code",
   "execution_count": 30,
   "id": "de122beb-af92-449d-ac43-5e438b3eea36",
   "metadata": {
    "tags": []
   },
   "outputs": [
    {
     "data": {
      "text/plain": [
       "([ToolRetrieval(type='retrieval')],\n",
       " ['file-mqVEgm7vFdhkEbJZBJV79ew9', 'file-WdbuyLoRPUYnUMcK6p6sAAx8'])"
      ]
     },
     "execution_count": 30,
     "metadata": {},
     "output_type": "execute_result"
    }
   ],
   "source": [
    "# confirm it has tools and the files.\n",
    "agent.__dict__.keys()\n",
    "agent._assistant.__dict__.keys()\n",
    "agent._assistant.tools, agent._assistant.file_ids"
   ]
  },
  {
   "cell_type": "code",
   "execution_count": 31,
   "id": "2d8b258a-2d75-4d56-bbbd-7bfdb082cc84",
   "metadata": {
    "tags": []
   },
   "outputs": [],
   "source": [
    "# Makes dialog a bit cleaner.\n",
    "def ask(question):\n",
    "    response = agent.chat(question)\n",
    "    display(Markdown(response.response))"
   ]
  },
  {
   "cell_type": "code",
   "execution_count": 32,
   "id": "c061a599-a018-4a34-a073-7bf6a58db882",
   "metadata": {
    "tags": []
   },
   "outputs": [
    {
     "data": {
      "text/markdown": [
       "Please explore our analyst knowledge store by selection an Application Security question below:\n",
       "\n",
       "1. How are malicious actors evolving their cyber attack strategies?\n",
       "2. How does the complexity of an application affect its vulnerability to attacks?\n",
       "3. How can SAST, DAST, and composition analysis enhance application security and efficiency?\n",
       "4. What is the role of a chief information security officer (CISO) in organizations?\n",
       "5. How has the digital landscape changed application development and deployment?"
      ],
      "text/plain": [
       "<IPython.core.display.Markdown object>"
      ]
     },
     "metadata": {},
     "output_type": "display_data"
    }
   ],
   "source": [
    "# Output initial options for the user.\n",
    "# Note that all of this dialog is done within the Application Security context.\n",
    "ask(\"\")"
   ]
  },
  {
   "cell_type": "code",
   "execution_count": 33,
   "id": "5a1e03c6-91f3-4f2f-ad61-1f88c9eb2217",
   "metadata": {
    "tags": []
   },
   "outputs": [
    {
     "data": {
      "text/markdown": [
       "The threat landscape is becoming increasingly dangerous as malicious actors focus their energy on developing sophisticated targeted attacks. This development is partly driven by mobile and cloud-first initiatives, digital workplace transformation, and the proliferation of IoT applications, which are expanding the size and complexity of application infrastructures and thus their associated attack surfaces. The wide publicity devoted to major cyber-attacks has increased awareness and raised cybersecurity to a boardroom issue, leading many organizations to appoint a CISO (Chief Information Security Officer).\n",
       "\n",
       "A new type of cyber-attack, ransomware, has gained prominence recently, affecting users ranging from individuals to large enterprises. Notable among these attacks is the WannaCry ransomware, which affected more than 200,000 systems across over 100 countries, highlighting the need to identify and fix vulnerabilities early in the development lifecycle.\n",
       "\n",
       "Besides the threat of new attack types, the increasing complexity of applications also contributes to the threat landscape, as more complex applications create a larger attack surface, making it easier for malicious actors to exploit unanticipated interactions between components.\n",
       "\n",
       "In response to these evolving threats, organizations are incorporating cybersecurity principles and tools into their contemporary software development and deployment methodologies, making application security (AppSec) a more integral part of security architecture.\n",
       "\n",
       "Related Questions\n",
       "-----------------\n",
       "1. What is the role of a chief information security officer (CISO) in organizations?\n",
       "2. How does the complexity of an application affect its vulnerability to attacks?\n",
       "3. What are the major obstacles to organizations employing AppSec tools?\n",
       "\n",
       "Other questions\n",
       "---------------\n",
       "4. How does automating AppSec as part of the process help alleviate challenges from the global cybersecurity skills shortage?\n",
       "5. Why is securing applications still a challenge for organizations?"
      ],
      "text/plain": [
       "<IPython.core.display.Markdown object>"
      ]
     },
     "metadata": {},
     "output_type": "display_data"
    }
   ],
   "source": [
    "ask(\"1\")"
   ]
  },
  {
   "cell_type": "code",
   "execution_count": 34,
   "id": "524981d3-4135-4e4f-933f-26d3993b61db",
   "metadata": {
    "tags": []
   },
   "outputs": [
    {
     "data": {
      "text/markdown": [
       "The complexity of applications has a significant impact on their vulnerability to attacks. As applications become more complex, they rely on a mix of internal and third-party components and must evolve to support new frameworks. This increased complexity creates additional challenges for security professionals in terms of keeping up with the evolving threat landscape. Applications are often the leading attack vector in security breaches, with 42% of global security decision makers reporting external attacks were carried out by exploiting software vulnerabilities and 35% through web applications【16†source】. Complex applications present a larger and more varied attack surface, and open source components, in particular, pose a persistent challenge, as they are widely used and can be common vectors for attack if not properly monitored and managed.\n",
       "\n",
       "Related Questions\n",
       "-----------------\n",
       "1. What security measures should be taken to ensure application security in remote work situations?\n",
       "2. How can SAST, DAST, and composition analysis enhance application security and efficiency?\n",
       "3. What challenges are security professionals facing with new application languages and delivery methods?\n",
       "\n",
       "Other questions\n",
       "---------------\n",
       "4. Why is securing applications still a challenge for organizations?\n",
       "5. What are the major obstacles to organizations employing AppSec tools?"
      ],
      "text/plain": [
       "<IPython.core.display.Markdown object>"
      ]
     },
     "metadata": {},
     "output_type": "display_data"
    }
   ],
   "source": [
    "ask(\"2\")"
   ]
  },
  {
   "cell_type": "code",
   "execution_count": 35,
   "id": "b73ae871-b310-4e21-a8cb-b0d0848af0ce",
   "metadata": {
    "tags": []
   },
   "outputs": [
    {
     "data": {
      "text/markdown": [
       "Securing applications remains a challenge for organizations primarily because, despite years of development, a comprehensive solution for application security has been elusive. Applications are essential for businesses to meet the needs of customers, partners, and employees. However, they continue to be the leading attack vector in security breaches. According to 42% of global security decision makers, external attacks often exploit software vulnerabilities, and 35% indicated that web applications were the point of intrusion.\n",
       "\n",
       "The challenge is compounded by the fact that as applications grow in complexity and rely more on internal and third-party components, they evolve to support new frameworks, and security professionals must keep pace with these changes. In addition to this, the ubiquitous use of open source components adds another layer of complexity, as it requires security professionals to be vigilant about vulnerabilities within these widely-used elements【21†source】.\n",
       "\n",
       "Related Questions\n",
       "-----------------\n",
       "1. What challenges have been created for AppSec solutions?\n",
       "2. What measures should be taken to ensure application security in remote work situations?\n",
       "3. How do attackers compromise modern applications?\n",
       "\n",
       "Other questions\n",
       "---------------\n",
       "4. What is the role of developer security champions in a dev team?\n",
       "5. What are the major obstacles to organizations employing AppSec tools?"
      ],
      "text/plain": [
       "<IPython.core.display.Markdown object>"
      ]
     },
     "metadata": {},
     "output_type": "display_data"
    }
   ],
   "source": [
    "ask(\"5\")"
   ]
  },
  {
   "cell_type": "code",
   "execution_count": null,
   "id": "100cef0c-0e10-4e29-95a6-716df6f93181",
   "metadata": {},
   "outputs": [],
   "source": []
  }
 ],
 "metadata": {
  "environment": {
   "name": "common-cpu.m71",
   "type": "gcloud",
   "uri": "gcr.io/deeplearning-platform-release/base-cpu:m71"
  },
  "kernelspec": {
   "display_name": "Python [conda env:py39]",
   "language": "python",
   "name": "conda-env-py39-py"
  },
  "language_info": {
   "codemirror_mode": {
    "name": "ipython",
    "version": 3
   },
   "file_extension": ".py",
   "mimetype": "text/x-python",
   "name": "python",
   "nbconvert_exporter": "python",
   "pygments_lexer": "ipython3",
   "version": "3.9.16"
  }
 },
 "nbformat": 4,
 "nbformat_minor": 5
}
