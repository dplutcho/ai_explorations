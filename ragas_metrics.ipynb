{
 "cells": [
  {
   "cell_type": "markdown",
   "metadata": {},
   "source": [
    "# Metrics manipulattion\n",
    "\n",
    "Key resources\n",
    "* https://docs.ragas.io/en/stable/concepts/metrics/index.html\n",
    "* https://github.com/explodinggradients/ragas/tree/main/src/ragas/metrics (prompts and logic)\n",
    "* https://blog.langchain.dev/evaluating-rag-pipelines-with-ragas-langsmith/ (see the 'under the hood' section)"
   ]
  },
  {
   "cell_type": "markdown",
   "metadata": {},
   "source": [
    "## prep"
   ]
  },
  {
   "cell_type": "code",
   "execution_count": 13,
   "metadata": {},
   "outputs": [],
   "source": [
    "# !pip install -U openai"
   ]
  },
  {
   "cell_type": "code",
   "execution_count": 14,
   "metadata": {},
   "outputs": [],
   "source": [
    "# !pip install openai\n",
    "# # !pip uninstall -y openai"
   ]
  },
  {
   "cell_type": "code",
   "execution_count": 15,
   "metadata": {},
   "outputs": [],
   "source": [
    "# import openai\n",
    "# openai.__version__"
   ]
  },
  {
   "cell_type": "code",
   "execution_count": 16,
   "metadata": {},
   "outputs": [],
   "source": [
    "# !pip install ragas"
   ]
  },
  {
   "cell_type": "code",
   "execution_count": 17,
   "metadata": {},
   "outputs": [],
   "source": [
    "from copy import deepcopy\n",
    "import os\n",
    "import openai"
   ]
  },
  {
   "cell_type": "code",
   "execution_count": 18,
   "metadata": {},
   "outputs": [],
   "source": [
    "from dotenv import load_dotenv\n",
    "load_dotenv()\n",
    "\n",
    "openaikey = os.getenv('OPENAI_API_KEY')\n",
    "openai.api_key = openaikey"
   ]
  },
  {
   "cell_type": "markdown",
   "metadata": {},
   "source": [
    "## Alter inputs to understand metrics\n",
    "* https://blog.langchain.dev/evaluating-rag-pipelines-with-ragas-langsmith/"
   ]
  },
  {
   "cell_type": "markdown",
   "metadata": {},
   "source": [
    "## Eval single doc"
   ]
  },
  {
   "cell_type": "code",
   "execution_count": 19,
   "metadata": {
    "tags": []
   },
   "outputs": [],
   "source": [
    "import langchain"
   ]
  },
  {
   "cell_type": "code",
   "execution_count": 20,
   "metadata": {
    "tags": []
   },
   "outputs": [],
   "source": [
    "from langchain.document_loaders import WebBaseLoader\n",
    "from langchain.indexes import VectorstoreIndexCreator\n",
    "from langchain.chains import RetrievalQA\n",
    "from langchain.chat_models import ChatOpenAI"
   ]
  },
  {
   "cell_type": "code",
   "execution_count": 21,
   "metadata": {},
   "outputs": [
    {
     "data": {
      "text/plain": [
       "'New York City got its name in 1664 when it was renamed after King Charles II granted the lands to his brother, the Duke of York. It was previously known as New Amsterdam when it was founded by Dutch colonists in 1626. The city came under British control in 1664 and was renamed New York.'"
      ]
     },
     "execution_count": 21,
     "metadata": {},
     "output_type": "execute_result"
    }
   ],
   "source": [
    "## set up and run the retrieval chain.\n",
    "# - for one doc chunked.\n",
    "\n",
    "# load the Wikipedia page and create index\n",
    "loader = WebBaseLoader(\"https://en.wikipedia.org/wiki/New_York_City\")\n",
    "index = VectorstoreIndexCreator().from_loaders([loader])\n",
    "\n",
    "# create the QA chain\n",
    "llm = ChatOpenAI()\n",
    "qa_chain = RetrievalQA.from_chain_type(\n",
    "    llm, retriever=index.vectorstore.as_retriever(), return_source_documents=True\n",
    ")\n",
    "\n",
    "# testing it out\n",
    "question = \"How did New York City get its name?\"\n",
    "result = qa_chain({\"query\": question})\n",
    "result[\"result\"]"
   ]
  },
  {
   "cell_type": "code",
   "execution_count": 22,
   "metadata": {},
   "outputs": [
    {
     "data": {
      "text/plain": [
       "dict_keys(['query', 'result', 'source_documents'])"
      ]
     },
     "execution_count": 22,
     "metadata": {},
     "output_type": "execute_result"
    }
   ],
   "source": [
    "result.keys()"
   ]
  },
  {
   "cell_type": "code",
   "execution_count": 23,
   "metadata": {},
   "outputs": [],
   "source": [
    "results_orig = deepcopy(result)"
   ]
  },
  {
   "cell_type": "code",
   "execution_count": 24,
   "metadata": {},
   "outputs": [
    {
     "name": "stderr",
     "output_type": "stream",
     "text": [
      "/home/cataluna84/anaconda3/envs/generative-ai/lib/python3.10/site-packages/tqdm/auto.py:21: TqdmWarning: IProgress not found. Please update jupyter and ipywidgets. See https://ipywidgets.readthedocs.io/en/stable/user_install.html\n",
      "  from .autonotebook import tqdm as notebook_tqdm\n"
     ]
    }
   ],
   "source": [
    "## Prep the eval chain.\n",
    "#\n",
    "from ragas.metrics import faithfulness, answer_relevancy, context_precision, context_recall\n",
    "from ragas.langchain import RagasEvaluatorChain\n",
    "\n",
    "# make eval chains\n",
    "eval_chains = {m.name: RagasEvaluatorChain(metric=m) for m in [faithfulness, answer_relevancy, context_precision] } # context_recall"
   ]
  },
  {
   "cell_type": "code",
   "execution_count": 25,
   "metadata": {},
   "outputs": [
    {
     "name": "stdout",
     "output_type": "stream",
     "text": [
      "faithfulness_score: 1.0\n",
      "answer_relevancy_score: 0.9111665779493906\n",
      "context_precision_score: 0.9999999999\n"
     ]
    }
   ],
   "source": [
    "# Run each eval separately.\n",
    "for name, eval_chain in eval_chains.items():\n",
    "    score_name = f\"{name}_score\"\n",
    "    print(f\"{score_name}: {eval_chain(result)[score_name]}\")"
   ]
  },
  {
   "cell_type": "markdown",
   "metadata": {},
   "source": [
    "## faithfullness (answer to the context)\n",
    "* answer is regarded as faithful if all the claims that are made in the answer can be inferred from the given context.\n",
    "* One prompt to extract statements (sentences?) and a second prompt to judge groundedness."
   ]
  },
  {
   "cell_type": "code",
   "execution_count": 26,
   "metadata": {},
   "outputs": [
    {
     "data": {
      "text/plain": [
       "1.0"
      ]
     },
     "execution_count": 26,
     "metadata": {},
     "output_type": "execute_result"
    }
   ],
   "source": [
    "RagasEvaluatorChain(metric=faithfulness)(result)['faithfulness_score']"
   ]
  },
  {
   "cell_type": "code",
   "execution_count": 27,
   "metadata": {},
   "outputs": [],
   "source": [
    "result = deepcopy(results_orig)"
   ]
  },
  {
   "cell_type": "code",
   "execution_count": 28,
   "metadata": {},
   "outputs": [],
   "source": [
    "## Adding eroneous contexts/docs should NOT affect faithfulness.\n",
    "# - sonce all the answers are still available in the context docs."
   ]
  },
  {
   "cell_type": "code",
   "execution_count": 30,
   "metadata": {},
   "outputs": [
    {
     "data": {
      "text/plain": [
       "[Document(page_content=\"Etymology\\nSee also: Nicknames of New York City\\nIn 1664, New York was named in honor of the Duke of York (later King James\\xa0II of England).[32] James's elder brother, King Charles\\xa0II, appointed the Duke as proprietor of the former territory of New Netherland, including the city of New Amsterdam, when England seized it from Dutch control.[33]\", metadata={'language': 'en', 'source': 'https://en.wikipedia.org/wiki/New_York_City', 'title': 'New York City - Wikipedia'}),\n",
       " Document(page_content='New York City traces its origins to Fort Amsterdam and a trading post founded on the southern tip of Manhattan Island by Dutch colonists in approximately 1624. The settlement was named New Amsterdam (Dutch: Nieuw Amsterdam) in 1626 and was chartered as a city in 1653. The city came under British control in 1664 and was renamed New York after King Charles II granted the lands to his brother, the Duke of York.[17] The city was temporarily regained by the Dutch in July 1673 and was renamed New Orange; the city has been named New York since November 1674. New York City was the capital of the United States from 1785 until 1790,[18] and has been the largest U.S. city since 1790. The Statue of Liberty greeted millions of immigrants as they came to the U.S. via Ellis Island by ship in the late 19th and early 20th centuries, and is a symbol of the U.S. and its ideals of liberty and peace.[19]', metadata={'language': 'en', 'source': 'https://en.wikipedia.org/wiki/New_York_City', 'title': 'New York City - Wikipedia'}),\n",
       " Document(page_content='Retrieved from \"https://en.wikipedia.org/w/index.php?title=New_York_City&oldid=1192038477\"', metadata={'language': 'en', 'source': 'https://en.wikipedia.org/wiki/New_York_City', 'title': 'New York City - Wikipedia'}),\n",
       " Document(page_content='One of the most common traits attributed to New York City is its fast pace,[396][397][398] which spawned the term New York minute.[399] Journalist Walt Whitman characterized New York\\'s streets as being traversed by \"hurrying, feverish, electric crowds\".[398] New York City\\'s residents are prominently known for their resilience historically, and more recently related to their management of the impacts of the 9/11 terrorist attacks and the COVID-19 pandemic.[400][401][402] New York was voted the world\\'s most resilient city in 2021 and 2022 per Time Out\\'s global poll of urban residents.[401]', metadata={'language': 'en', 'source': 'https://en.wikipedia.org/wiki/New_York_City', 'title': 'New York City - Wikipedia'}),\n",
       " Document(page_content='dog dog dog dog dog dog dog dog dog dog dog dog dog dog dog dog dog dog dog dog dog dog dog dog dog dog dog dog dog dog dog dog dog dog dog dog dog dog dog dog dog dog dog dog dog dog dog dog dog dog ', metadata={'language': 'en', 'source': 'https://en.wikipedia.org/wiki/New_York_City', 'title': 'New York City - Wikipedia'}),\n",
       " Document(page_content='dog dog dog dog dog dog dog dog dog dog dog dog dog dog dog dog dog dog dog dog dog dog dog dog dog dog dog dog dog dog dog dog dog dog dog dog dog dog dog dog dog dog dog dog dog dog dog dog dog dog ', metadata={'language': 'en', 'source': 'https://en.wikipedia.org/wiki/New_York_City', 'title': 'New York City - Wikipedia'}),\n",
       " Document(page_content='dog dog dog dog dog dog dog dog dog dog dog dog dog dog dog dog dog dog dog dog dog dog dog dog dog dog dog dog dog dog dog dog dog dog dog dog dog dog dog dog dog dog dog dog dog dog dog dog dog dog ', metadata={'language': 'en', 'source': 'https://en.wikipedia.org/wiki/New_York_City', 'title': 'New York City - Wikipedia'}),\n",
       " Document(page_content='dog dog dog dog dog dog dog dog dog dog dog dog dog dog dog dog dog dog dog dog dog dog dog dog dog dog dog dog dog dog dog dog dog dog dog dog dog dog dog dog dog dog dog dog dog dog dog dog dog dog ', metadata={'language': 'en', 'source': 'https://en.wikipedia.org/wiki/New_York_City', 'title': 'New York City - Wikipedia'})]"
      ]
     },
     "execution_count": 30,
     "metadata": {},
     "output_type": "execute_result"
    }
   ],
   "source": [
    "# Add four bad docs to the end of the results list.\n",
    "myd = deepcopy(result['source_documents'][0])\n",
    "myd.page_content = 'dog '*50\n",
    "result['source_documents'].extend([myd, myd, myd, myd])\n",
    "result['source_documents']"
   ]
  },
  {
   "cell_type": "code",
   "execution_count": 31,
   "metadata": {},
   "outputs": [
    {
     "data": {
      "text/plain": [
       "1.0"
      ]
     },
     "execution_count": 31,
     "metadata": {},
     "output_type": "execute_result"
    }
   ],
   "source": [
    "# This should have no effect on faithfulness, it's just extra, unused context.\n",
    "RagasEvaluatorChain(metric=faithfulness)(result)['faithfulness_score']"
   ]
  },
  {
   "cell_type": "code",
   "execution_count": 32,
   "metadata": {},
   "outputs": [
    {
     "data": {
      "text/plain": [
       "[Document(page_content='dog dog dog dog dog dog dog dog dog dog dog dog dog dog dog dog dog dog dog dog dog dog dog dog dog dog dog dog dog dog dog dog dog dog dog dog dog dog dog dog dog dog dog dog dog dog dog dog dog dog ', metadata={'language': 'en', 'source': 'https://en.wikipedia.org/wiki/New_York_City', 'title': 'New York City - Wikipedia'}),\n",
       " Document(page_content='dog dog dog dog dog dog dog dog dog dog dog dog dog dog dog dog dog dog dog dog dog dog dog dog dog dog dog dog dog dog dog dog dog dog dog dog dog dog dog dog dog dog dog dog dog dog dog dog dog dog ', metadata={'language': 'en', 'source': 'https://en.wikipedia.org/wiki/New_York_City', 'title': 'New York City - Wikipedia'}),\n",
       " Document(page_content='dog dog dog dog dog dog dog dog dog dog dog dog dog dog dog dog dog dog dog dog dog dog dog dog dog dog dog dog dog dog dog dog dog dog dog dog dog dog dog dog dog dog dog dog dog dog dog dog dog dog ', metadata={'language': 'en', 'source': 'https://en.wikipedia.org/wiki/New_York_City', 'title': 'New York City - Wikipedia'}),\n",
       " Document(page_content='dog dog dog dog dog dog dog dog dog dog dog dog dog dog dog dog dog dog dog dog dog dog dog dog dog dog dog dog dog dog dog dog dog dog dog dog dog dog dog dog dog dog dog dog dog dog dog dog dog dog ', metadata={'language': 'en', 'source': 'https://en.wikipedia.org/wiki/New_York_City', 'title': 'New York City - Wikipedia'})]"
      ]
     },
     "execution_count": 32,
     "metadata": {},
     "output_type": "execute_result"
    }
   ],
   "source": [
    "## removing all the relevant docs should kill faithfulness.\n",
    "#\n",
    "result['source_documents'] = result['source_documents'][4:]\n",
    "result['source_documents']"
   ]
  },
  {
   "cell_type": "code",
   "execution_count": 33,
   "metadata": {},
   "outputs": [
    {
     "data": {
      "text/plain": [
       "0.6666666666666666"
      ]
     },
     "execution_count": 33,
     "metadata": {},
     "output_type": "execute_result"
    }
   ],
   "source": [
    "RagasEvaluatorChain(metric=faithfulness)(result)['faithfulness_score']"
   ]
  },
  {
   "cell_type": "markdown",
   "metadata": {},
   "source": [
    "## answer_relevancy\n",
    "* measures the relevancy of the answer to the question.\n",
    "* gens questions from answer then measures similarity of these generate questions to original question.\n",
    "* does not seem to work as expected. When kill answer and context-docs still getting 0.7 score."
   ]
  },
  {
   "cell_type": "code",
   "execution_count": 34,
   "metadata": {},
   "outputs": [],
   "source": [
    "result = deepcopy(results_orig)"
   ]
  },
  {
   "cell_type": "code",
   "execution_count": 35,
   "metadata": {},
   "outputs": [
    {
     "data": {
      "text/plain": [
       "0.9111665779493906"
      ]
     },
     "execution_count": 35,
     "metadata": {},
     "output_type": "execute_result"
    }
   ],
   "source": [
    "RagasEvaluatorChain(metric=answer_relevancy)(result)['answer_relevancy_score']"
   ]
  },
  {
   "cell_type": "code",
   "execution_count": 36,
   "metadata": {},
   "outputs": [
    {
     "data": {
      "text/plain": [
       "dict_keys(['query', 'result', 'source_documents'])"
      ]
     },
     "execution_count": 36,
     "metadata": {},
     "output_type": "execute_result"
    }
   ],
   "source": [
    "result.keys()"
   ]
  },
  {
   "cell_type": "code",
   "execution_count": 37,
   "metadata": {},
   "outputs": [
    {
     "data": {
      "text/plain": [
       "{'query': 'How did New York City get its name?',\n",
       " 'result': 'New York City got its name in 1664 when it was renamed after King Charles II granted the lands to his brother, the Duke of York. It was previously known as New Amsterdam when it was founded by Dutch colonists in 1626. The city came under British control in 1664 and was renamed New York.',\n",
       " 'source_documents': [Document(page_content=\"Etymology\\nSee also: Nicknames of New York City\\nIn 1664, New York was named in honor of the Duke of York (later King James\\xa0II of England).[32] James's elder brother, King Charles\\xa0II, appointed the Duke as proprietor of the former territory of New Netherland, including the city of New Amsterdam, when England seized it from Dutch control.[33]\", metadata={'language': 'en', 'source': 'https://en.wikipedia.org/wiki/New_York_City', 'title': 'New York City - Wikipedia'}),\n",
       "  Document(page_content='New York City traces its origins to Fort Amsterdam and a trading post founded on the southern tip of Manhattan Island by Dutch colonists in approximately 1624. The settlement was named New Amsterdam (Dutch: Nieuw Amsterdam) in 1626 and was chartered as a city in 1653. The city came under British control in 1664 and was renamed New York after King Charles II granted the lands to his brother, the Duke of York.[17] The city was temporarily regained by the Dutch in July 1673 and was renamed New Orange; the city has been named New York since November 1674. New York City was the capital of the United States from 1785 until 1790,[18] and has been the largest U.S. city since 1790. The Statue of Liberty greeted millions of immigrants as they came to the U.S. via Ellis Island by ship in the late 19th and early 20th centuries, and is a symbol of the U.S. and its ideals of liberty and peace.[19]', metadata={'language': 'en', 'source': 'https://en.wikipedia.org/wiki/New_York_City', 'title': 'New York City - Wikipedia'}),\n",
       "  Document(page_content='Retrieved from \"https://en.wikipedia.org/w/index.php?title=New_York_City&oldid=1192038477\"', metadata={'language': 'en', 'source': 'https://en.wikipedia.org/wiki/New_York_City', 'title': 'New York City - Wikipedia'}),\n",
       "  Document(page_content='One of the most common traits attributed to New York City is its fast pace,[396][397][398] which spawned the term New York minute.[399] Journalist Walt Whitman characterized New York\\'s streets as being traversed by \"hurrying, feverish, electric crowds\".[398] New York City\\'s residents are prominently known for their resilience historically, and more recently related to their management of the impacts of the 9/11 terrorist attacks and the COVID-19 pandemic.[400][401][402] New York was voted the world\\'s most resilient city in 2021 and 2022 per Time Out\\'s global poll of urban residents.[401]', metadata={'language': 'en', 'source': 'https://en.wikipedia.org/wiki/New_York_City', 'title': 'New York City - Wikipedia'})]}"
      ]
     },
     "execution_count": 37,
     "metadata": {},
     "output_type": "execute_result"
    }
   ],
   "source": [
    "# result['result']\n",
    "result"
   ]
  },
  {
   "cell_type": "code",
   "execution_count": 38,
   "metadata": {},
   "outputs": [],
   "source": [
    "# result['result']  = result['result'] *4\n",
    "# result['result']\n",
    "# RagasEvaluatorChain(metric=answer_relevancy)(result)['answer_relevancy_score']"
   ]
  },
  {
   "cell_type": "code",
   "execution_count": 39,
   "metadata": {},
   "outputs": [
    {
     "data": {
      "text/plain": [
       "'dog dog dog dog dog dog dog dog dog dog dog dog dog dog dog dog dog dog dog dog dog dog dog dog dog dog dog dog dog dog dog dog dog dog dog dog dog dog dog dog dog dog dog dog dog dog dog dog dog dog '"
      ]
     },
     "execution_count": 39,
     "metadata": {},
     "output_type": "execute_result"
    }
   ],
   "source": [
    "# Should kill this metric.\n",
    "result['result'] = 'dog ' * 50\n",
    "result['result'] "
   ]
  },
  {
   "cell_type": "code",
   "execution_count": 40,
   "metadata": {},
   "outputs": [
    {
     "data": {
      "text/plain": [
       "{'query': 'How did New York City get its name?',\n",
       " 'result': 'dog dog dog dog dog dog dog dog dog dog dog dog dog dog dog dog dog dog dog dog dog dog dog dog dog dog dog dog dog dog dog dog dog dog dog dog dog dog dog dog dog dog dog dog dog dog dog dog dog dog ',\n",
       " 'source_documents': [Document(page_content=\"Etymology\\nSee also: Nicknames of New York City\\nIn 1664, New York was named in honor of the Duke of York (later King James\\xa0II of England).[32] James's elder brother, King Charles\\xa0II, appointed the Duke as proprietor of the former territory of New Netherland, including the city of New Amsterdam, when England seized it from Dutch control.[33]\", metadata={'language': 'en', 'source': 'https://en.wikipedia.org/wiki/New_York_City', 'title': 'New York City - Wikipedia'}),\n",
       "  Document(page_content='New York City traces its origins to Fort Amsterdam and a trading post founded on the southern tip of Manhattan Island by Dutch colonists in approximately 1624. The settlement was named New Amsterdam (Dutch: Nieuw Amsterdam) in 1626 and was chartered as a city in 1653. The city came under British control in 1664 and was renamed New York after King Charles II granted the lands to his brother, the Duke of York.[17] The city was temporarily regained by the Dutch in July 1673 and was renamed New Orange; the city has been named New York since November 1674. New York City was the capital of the United States from 1785 until 1790,[18] and has been the largest U.S. city since 1790. The Statue of Liberty greeted millions of immigrants as they came to the U.S. via Ellis Island by ship in the late 19th and early 20th centuries, and is a symbol of the U.S. and its ideals of liberty and peace.[19]', metadata={'language': 'en', 'source': 'https://en.wikipedia.org/wiki/New_York_City', 'title': 'New York City - Wikipedia'}),\n",
       "  Document(page_content='Retrieved from \"https://en.wikipedia.org/w/index.php?title=New_York_City&oldid=1192038477\"', metadata={'language': 'en', 'source': 'https://en.wikipedia.org/wiki/New_York_City', 'title': 'New York City - Wikipedia'}),\n",
       "  Document(page_content='One of the most common traits attributed to New York City is its fast pace,[396][397][398] which spawned the term New York minute.[399] Journalist Walt Whitman characterized New York\\'s streets as being traversed by \"hurrying, feverish, electric crowds\".[398] New York City\\'s residents are prominently known for their resilience historically, and more recently related to their management of the impacts of the 9/11 terrorist attacks and the COVID-19 pandemic.[400][401][402] New York was voted the world\\'s most resilient city in 2021 and 2022 per Time Out\\'s global poll of urban residents.[401]', metadata={'language': 'en', 'source': 'https://en.wikipedia.org/wiki/New_York_City', 'title': 'New York City - Wikipedia'})],\n",
       " 'answer_relevancy_score': 0.854463910427027}"
      ]
     },
     "execution_count": 40,
     "metadata": {},
     "output_type": "execute_result"
    }
   ],
   "source": [
    "# Seems like this should be much much lower.\n",
    "RagasEvaluatorChain(metric=answer_relevancy)(result) # ['answer_relevancy_score']"
   ]
  },
  {
   "cell_type": "code",
   "execution_count": 41,
   "metadata": {},
   "outputs": [
    {
     "data": {
      "text/plain": [
       "[Document(page_content='dog dog dog dog dog dog dog dog dog dog dog dog dog dog dog dog dog dog dog dog dog dog dog dog dog dog dog dog dog dog dog dog dog dog dog dog dog dog dog dog dog dog dog dog dog dog dog dog dog dog ', metadata={'language': 'en', 'source': 'https://en.wikipedia.org/wiki/New_York_City', 'title': 'New York City - Wikipedia'}),\n",
       " Document(page_content='dog dog dog dog dog dog dog dog dog dog dog dog dog dog dog dog dog dog dog dog dog dog dog dog dog dog dog dog dog dog dog dog dog dog dog dog dog dog dog dog dog dog dog dog dog dog dog dog dog dog ', metadata={'language': 'en', 'source': 'https://en.wikipedia.org/wiki/New_York_City', 'title': 'New York City - Wikipedia'}),\n",
       " Document(page_content='dog dog dog dog dog dog dog dog dog dog dog dog dog dog dog dog dog dog dog dog dog dog dog dog dog dog dog dog dog dog dog dog dog dog dog dog dog dog dog dog dog dog dog dog dog dog dog dog dog dog ', metadata={'language': 'en', 'source': 'https://en.wikipedia.org/wiki/New_York_City', 'title': 'New York City - Wikipedia'}),\n",
       " Document(page_content='dog dog dog dog dog dog dog dog dog dog dog dog dog dog dog dog dog dog dog dog dog dog dog dog dog dog dog dog dog dog dog dog dog dog dog dog dog dog dog dog dog dog dog dog dog dog dog dog dog dog ', metadata={'language': 'en', 'source': 'https://en.wikipedia.org/wiki/New_York_City', 'title': 'New York City - Wikipedia'})]"
      ]
     },
     "execution_count": 41,
     "metadata": {},
     "output_type": "execute_result"
    }
   ],
   "source": [
    "## Alter the context to see what that does now that answer way wrong.\n",
    "# - the prompt for this measure uses the context and the answer to generate the question.\n",
    "\n",
    "# Add four bad docs to the end of the results list.\n",
    "myd = deepcopy(result['source_documents'][0])\n",
    "myd.page_content = 'dog '*50\n",
    "result['source_documents'] = [myd, myd, myd, myd]\n",
    "result['source_documents']"
   ]
  },
  {
   "cell_type": "code",
   "execution_count": 42,
   "metadata": {},
   "outputs": [
    {
     "data": {
      "text/plain": [
       "{'query': 'How did New York City get its name?',\n",
       " 'result': 'dog dog dog dog dog dog dog dog dog dog dog dog dog dog dog dog dog dog dog dog dog dog dog dog dog dog dog dog dog dog dog dog dog dog dog dog dog dog dog dog dog dog dog dog dog dog dog dog dog dog ',\n",
       " 'source_documents': [Document(page_content='dog dog dog dog dog dog dog dog dog dog dog dog dog dog dog dog dog dog dog dog dog dog dog dog dog dog dog dog dog dog dog dog dog dog dog dog dog dog dog dog dog dog dog dog dog dog dog dog dog dog ', metadata={'language': 'en', 'source': 'https://en.wikipedia.org/wiki/New_York_City', 'title': 'New York City - Wikipedia'}),\n",
       "  Document(page_content='dog dog dog dog dog dog dog dog dog dog dog dog dog dog dog dog dog dog dog dog dog dog dog dog dog dog dog dog dog dog dog dog dog dog dog dog dog dog dog dog dog dog dog dog dog dog dog dog dog dog ', metadata={'language': 'en', 'source': 'https://en.wikipedia.org/wiki/New_York_City', 'title': 'New York City - Wikipedia'}),\n",
       "  Document(page_content='dog dog dog dog dog dog dog dog dog dog dog dog dog dog dog dog dog dog dog dog dog dog dog dog dog dog dog dog dog dog dog dog dog dog dog dog dog dog dog dog dog dog dog dog dog dog dog dog dog dog ', metadata={'language': 'en', 'source': 'https://en.wikipedia.org/wiki/New_York_City', 'title': 'New York City - Wikipedia'}),\n",
       "  Document(page_content='dog dog dog dog dog dog dog dog dog dog dog dog dog dog dog dog dog dog dog dog dog dog dog dog dog dog dog dog dog dog dog dog dog dog dog dog dog dog dog dog dog dog dog dog dog dog dog dog dog dog ', metadata={'language': 'en', 'source': 'https://en.wikipedia.org/wiki/New_York_City', 'title': 'New York City - Wikipedia'})],\n",
       " 'answer_relevancy_score': 0.7686525020044922}"
      ]
     },
     "execution_count": 42,
     "metadata": {},
     "output_type": "execute_result"
    }
   ],
   "source": [
    "RagasEvaluatorChain(metric=answer_relevancy)(result) # ['answer_relevancy_score']"
   ]
  },
  {
   "cell_type": "markdown",
   "metadata": {},
   "source": [
    "## context precision.\n",
    "* https://docs.ragas.io/en/stable/concepts/metrics/context_precision.html\n",
    "* Search results order is key to this metric. Must have the answers in the top few context chunks to get a good score.\n",
    "* So this retreival metric is all about returning good well ranked results."
   ]
  },
  {
   "cell_type": "code",
   "execution_count": 43,
   "metadata": {},
   "outputs": [],
   "source": [
    "result = deepcopy(results_orig)"
   ]
  },
  {
   "cell_type": "code",
   "execution_count": 44,
   "metadata": {},
   "outputs": [
    {
     "data": {
      "text/plain": [
       "{'query': 'How did New York City get its name?',\n",
       " 'result': 'New York City got its name in 1664 when it was renamed after King Charles II granted the lands to his brother, the Duke of York. It was previously known as New Amsterdam when it was founded by Dutch colonists in 1626. The city came under British control in 1664 and was renamed New York.',\n",
       " 'source_documents': [Document(page_content=\"Etymology\\nSee also: Nicknames of New York City\\nIn 1664, New York was named in honor of the Duke of York (later King James\\xa0II of England).[32] James's elder brother, King Charles\\xa0II, appointed the Duke as proprietor of the former territory of New Netherland, including the city of New Amsterdam, when England seized it from Dutch control.[33]\", metadata={'language': 'en', 'source': 'https://en.wikipedia.org/wiki/New_York_City', 'title': 'New York City - Wikipedia'}),\n",
       "  Document(page_content='New York City traces its origins to Fort Amsterdam and a trading post founded on the southern tip of Manhattan Island by Dutch colonists in approximately 1624. The settlement was named New Amsterdam (Dutch: Nieuw Amsterdam) in 1626 and was chartered as a city in 1653. The city came under British control in 1664 and was renamed New York after King Charles II granted the lands to his brother, the Duke of York.[17] The city was temporarily regained by the Dutch in July 1673 and was renamed New Orange; the city has been named New York since November 1674. New York City was the capital of the United States from 1785 until 1790,[18] and has been the largest U.S. city since 1790. The Statue of Liberty greeted millions of immigrants as they came to the U.S. via Ellis Island by ship in the late 19th and early 20th centuries, and is a symbol of the U.S. and its ideals of liberty and peace.[19]', metadata={'language': 'en', 'source': 'https://en.wikipedia.org/wiki/New_York_City', 'title': 'New York City - Wikipedia'}),\n",
       "  Document(page_content='Retrieved from \"https://en.wikipedia.org/w/index.php?title=New_York_City&oldid=1192038477\"', metadata={'language': 'en', 'source': 'https://en.wikipedia.org/wiki/New_York_City', 'title': 'New York City - Wikipedia'}),\n",
       "  Document(page_content='One of the most common traits attributed to New York City is its fast pace,[396][397][398] which spawned the term New York minute.[399] Journalist Walt Whitman characterized New York\\'s streets as being traversed by \"hurrying, feverish, electric crowds\".[398] New York City\\'s residents are prominently known for their resilience historically, and more recently related to their management of the impacts of the 9/11 terrorist attacks and the COVID-19 pandemic.[400][401][402] New York was voted the world\\'s most resilient city in 2021 and 2022 per Time Out\\'s global poll of urban residents.[401]', metadata={'language': 'en', 'source': 'https://en.wikipedia.org/wiki/New_York_City', 'title': 'New York City - Wikipedia'})],\n",
       " 'context_precision_score': 0.9999999999}"
      ]
     },
     "execution_count": 44,
     "metadata": {},
     "output_type": "execute_result"
    }
   ],
   "source": [
    "RagasEvaluatorChain(metric=context_precision)(result) # ['context_precision_score']"
   ]
  },
  {
   "cell_type": "code",
   "execution_count": 45,
   "metadata": {},
   "outputs": [],
   "source": [
    "# Add bad docs at end of results list. Should have little or no effect on context precision.\n",
    "# - this metric is all about search results rank.\n",
    "\n",
    "myd = deepcopy(result['source_documents'][0])\n",
    "myd.page_content = 'dog '*50\n",
    "result['source_documents'].extend([myd, myd, myd, myd])"
   ]
  },
  {
   "cell_type": "code",
   "execution_count": 46,
   "metadata": {},
   "outputs": [
    {
     "data": {
      "text/plain": [
       "[Document(page_content=\"Etymology\\nSee also: Nicknames of New York City\\nIn 1664, New York was named in honor of the Duke of York (later King James\\xa0II of England).[32] James's elder brother, King Charles\\xa0II, appointed the Duke as proprietor of the former territory of New Netherland, including the city of New Amsterdam, when England seized it from Dutch control.[33]\", metadata={'language': 'en', 'source': 'https://en.wikipedia.org/wiki/New_York_City', 'title': 'New York City - Wikipedia'}),\n",
       " Document(page_content='New York City traces its origins to Fort Amsterdam and a trading post founded on the southern tip of Manhattan Island by Dutch colonists in approximately 1624. The settlement was named New Amsterdam (Dutch: Nieuw Amsterdam) in 1626 and was chartered as a city in 1653. The city came under British control in 1664 and was renamed New York after King Charles II granted the lands to his brother, the Duke of York.[17] The city was temporarily regained by the Dutch in July 1673 and was renamed New Orange; the city has been named New York since November 1674. New York City was the capital of the United States from 1785 until 1790,[18] and has been the largest U.S. city since 1790. The Statue of Liberty greeted millions of immigrants as they came to the U.S. via Ellis Island by ship in the late 19th and early 20th centuries, and is a symbol of the U.S. and its ideals of liberty and peace.[19]', metadata={'language': 'en', 'source': 'https://en.wikipedia.org/wiki/New_York_City', 'title': 'New York City - Wikipedia'}),\n",
       " Document(page_content='Retrieved from \"https://en.wikipedia.org/w/index.php?title=New_York_City&oldid=1192038477\"', metadata={'language': 'en', 'source': 'https://en.wikipedia.org/wiki/New_York_City', 'title': 'New York City - Wikipedia'}),\n",
       " Document(page_content='One of the most common traits attributed to New York City is its fast pace,[396][397][398] which spawned the term New York minute.[399] Journalist Walt Whitman characterized New York\\'s streets as being traversed by \"hurrying, feverish, electric crowds\".[398] New York City\\'s residents are prominently known for their resilience historically, and more recently related to their management of the impacts of the 9/11 terrorist attacks and the COVID-19 pandemic.[400][401][402] New York was voted the world\\'s most resilient city in 2021 and 2022 per Time Out\\'s global poll of urban residents.[401]', metadata={'language': 'en', 'source': 'https://en.wikipedia.org/wiki/New_York_City', 'title': 'New York City - Wikipedia'}),\n",
       " Document(page_content='dog dog dog dog dog dog dog dog dog dog dog dog dog dog dog dog dog dog dog dog dog dog dog dog dog dog dog dog dog dog dog dog dog dog dog dog dog dog dog dog dog dog dog dog dog dog dog dog dog dog ', metadata={'language': 'en', 'source': 'https://en.wikipedia.org/wiki/New_York_City', 'title': 'New York City - Wikipedia'}),\n",
       " Document(page_content='dog dog dog dog dog dog dog dog dog dog dog dog dog dog dog dog dog dog dog dog dog dog dog dog dog dog dog dog dog dog dog dog dog dog dog dog dog dog dog dog dog dog dog dog dog dog dog dog dog dog ', metadata={'language': 'en', 'source': 'https://en.wikipedia.org/wiki/New_York_City', 'title': 'New York City - Wikipedia'}),\n",
       " Document(page_content='dog dog dog dog dog dog dog dog dog dog dog dog dog dog dog dog dog dog dog dog dog dog dog dog dog dog dog dog dog dog dog dog dog dog dog dog dog dog dog dog dog dog dog dog dog dog dog dog dog dog ', metadata={'language': 'en', 'source': 'https://en.wikipedia.org/wiki/New_York_City', 'title': 'New York City - Wikipedia'}),\n",
       " Document(page_content='dog dog dog dog dog dog dog dog dog dog dog dog dog dog dog dog dog dog dog dog dog dog dog dog dog dog dog dog dog dog dog dog dog dog dog dog dog dog dog dog dog dog dog dog dog dog dog dog dog dog ', metadata={'language': 'en', 'source': 'https://en.wikipedia.org/wiki/New_York_City', 'title': 'New York City - Wikipedia'})]"
      ]
     },
     "execution_count": 46,
     "metadata": {},
     "output_type": "execute_result"
    }
   ],
   "source": [
    "result['source_documents']"
   ]
  },
  {
   "cell_type": "code",
   "execution_count": 47,
   "metadata": {},
   "outputs": [
    {
     "data": {
      "text/plain": [
       "0.9999999999"
      ]
     },
     "execution_count": 47,
     "metadata": {},
     "output_type": "execute_result"
    }
   ],
   "source": [
    "RagasEvaluatorChain(metric=context_precision)(result)['context_precision_score']"
   ]
  },
  {
   "cell_type": "code",
   "execution_count": 48,
   "metadata": {},
   "outputs": [],
   "source": [
    "## reverse this list.\n",
    "# - this should kill this metric.\n",
    "\n",
    "result['source_documents'] = result['source_documents'][::-1]"
   ]
  },
  {
   "cell_type": "code",
   "execution_count": 49,
   "metadata": {},
   "outputs": [
    {
     "data": {
      "text/plain": [
       "[Document(page_content='dog dog dog dog dog dog dog dog dog dog dog dog dog dog dog dog dog dog dog dog dog dog dog dog dog dog dog dog dog dog dog dog dog dog dog dog dog dog dog dog dog dog dog dog dog dog dog dog dog dog ', metadata={'language': 'en', 'source': 'https://en.wikipedia.org/wiki/New_York_City', 'title': 'New York City - Wikipedia'}),\n",
       " Document(page_content='dog dog dog dog dog dog dog dog dog dog dog dog dog dog dog dog dog dog dog dog dog dog dog dog dog dog dog dog dog dog dog dog dog dog dog dog dog dog dog dog dog dog dog dog dog dog dog dog dog dog ', metadata={'language': 'en', 'source': 'https://en.wikipedia.org/wiki/New_York_City', 'title': 'New York City - Wikipedia'}),\n",
       " Document(page_content='dog dog dog dog dog dog dog dog dog dog dog dog dog dog dog dog dog dog dog dog dog dog dog dog dog dog dog dog dog dog dog dog dog dog dog dog dog dog dog dog dog dog dog dog dog dog dog dog dog dog ', metadata={'language': 'en', 'source': 'https://en.wikipedia.org/wiki/New_York_City', 'title': 'New York City - Wikipedia'}),\n",
       " Document(page_content='dog dog dog dog dog dog dog dog dog dog dog dog dog dog dog dog dog dog dog dog dog dog dog dog dog dog dog dog dog dog dog dog dog dog dog dog dog dog dog dog dog dog dog dog dog dog dog dog dog dog ', metadata={'language': 'en', 'source': 'https://en.wikipedia.org/wiki/New_York_City', 'title': 'New York City - Wikipedia'}),\n",
       " Document(page_content='One of the most common traits attributed to New York City is its fast pace,[396][397][398] which spawned the term New York minute.[399] Journalist Walt Whitman characterized New York\\'s streets as being traversed by \"hurrying, feverish, electric crowds\".[398] New York City\\'s residents are prominently known for their resilience historically, and more recently related to their management of the impacts of the 9/11 terrorist attacks and the COVID-19 pandemic.[400][401][402] New York was voted the world\\'s most resilient city in 2021 and 2022 per Time Out\\'s global poll of urban residents.[401]', metadata={'language': 'en', 'source': 'https://en.wikipedia.org/wiki/New_York_City', 'title': 'New York City - Wikipedia'}),\n",
       " Document(page_content='Retrieved from \"https://en.wikipedia.org/w/index.php?title=New_York_City&oldid=1192038477\"', metadata={'language': 'en', 'source': 'https://en.wikipedia.org/wiki/New_York_City', 'title': 'New York City - Wikipedia'}),\n",
       " Document(page_content='New York City traces its origins to Fort Amsterdam and a trading post founded on the southern tip of Manhattan Island by Dutch colonists in approximately 1624. The settlement was named New Amsterdam (Dutch: Nieuw Amsterdam) in 1626 and was chartered as a city in 1653. The city came under British control in 1664 and was renamed New York after King Charles II granted the lands to his brother, the Duke of York.[17] The city was temporarily regained by the Dutch in July 1673 and was renamed New Orange; the city has been named New York since November 1674. New York City was the capital of the United States from 1785 until 1790,[18] and has been the largest U.S. city since 1790. The Statue of Liberty greeted millions of immigrants as they came to the U.S. via Ellis Island by ship in the late 19th and early 20th centuries, and is a symbol of the U.S. and its ideals of liberty and peace.[19]', metadata={'language': 'en', 'source': 'https://en.wikipedia.org/wiki/New_York_City', 'title': 'New York City - Wikipedia'}),\n",
       " Document(page_content=\"Etymology\\nSee also: Nicknames of New York City\\nIn 1664, New York was named in honor of the Duke of York (later King James\\xa0II of England).[32] James's elder brother, King Charles\\xa0II, appointed the Duke as proprietor of the former territory of New Netherland, including the city of New Amsterdam, when England seized it from Dutch control.[33]\", metadata={'language': 'en', 'source': 'https://en.wikipedia.org/wiki/New_York_City', 'title': 'New York City - Wikipedia'})]"
      ]
     },
     "execution_count": 49,
     "metadata": {},
     "output_type": "execute_result"
    }
   ],
   "source": [
    "result['source_documents']"
   ]
  },
  {
   "cell_type": "code",
   "execution_count": 50,
   "metadata": {},
   "outputs": [],
   "source": [
    "# RagasEvaluatorChain(metric=context_relevancy)(result)['context_relevancy_score']"
   ]
  },
  {
   "cell_type": "markdown",
   "metadata": {},
   "source": [
    "## context_recall\n",
    "* Context recall measures the extent to which the retrieved context aligns with the annotated answer, treated as the ground truth.\n",
    "* It is computed based on the ground truth and the retrieved context\n",
    "* values range between 0 and 1, with higher values indicating better performance"
   ]
  },
  {
   "cell_type": "code",
   "execution_count": 51,
   "metadata": {},
   "outputs": [
    {
     "data": {
      "text/plain": [
       "{'query': 'How did New York City get its name?',\n",
       " 'result': 'New York City got its name in 1664 when it was renamed after King Charles II granted the lands to his brother, the Duke of York. It was previously known as New Amsterdam when it was founded by Dutch colonists in 1626. The city came under British control in 1664 and was renamed New York.',\n",
       " 'source_documents': [Document(page_content=\"Etymology\\nSee also: Nicknames of New York City\\nIn 1664, New York was named in honor of the Duke of York (later King James\\xa0II of England).[32] James's elder brother, King Charles\\xa0II, appointed the Duke as proprietor of the former territory of New Netherland, including the city of New Amsterdam, when England seized it from Dutch control.[33]\", metadata={'language': 'en', 'source': 'https://en.wikipedia.org/wiki/New_York_City', 'title': 'New York City - Wikipedia'}),\n",
       "  Document(page_content='New York City traces its origins to Fort Amsterdam and a trading post founded on the southern tip of Manhattan Island by Dutch colonists in approximately 1624. The settlement was named New Amsterdam (Dutch: Nieuw Amsterdam) in 1626 and was chartered as a city in 1653. The city came under British control in 1664 and was renamed New York after King Charles II granted the lands to his brother, the Duke of York.[17] The city was temporarily regained by the Dutch in July 1673 and was renamed New Orange; the city has been named New York since November 1674. New York City was the capital of the United States from 1785 until 1790,[18] and has been the largest U.S. city since 1790. The Statue of Liberty greeted millions of immigrants as they came to the U.S. via Ellis Island by ship in the late 19th and early 20th centuries, and is a symbol of the U.S. and its ideals of liberty and peace.[19]', metadata={'language': 'en', 'source': 'https://en.wikipedia.org/wiki/New_York_City', 'title': 'New York City - Wikipedia'}),\n",
       "  Document(page_content='Retrieved from \"https://en.wikipedia.org/w/index.php?title=New_York_City&oldid=1192038477\"', metadata={'language': 'en', 'source': 'https://en.wikipedia.org/wiki/New_York_City', 'title': 'New York City - Wikipedia'}),\n",
       "  Document(page_content='One of the most common traits attributed to New York City is its fast pace,[396][397][398] which spawned the term New York minute.[399] Journalist Walt Whitman characterized New York\\'s streets as being traversed by \"hurrying, feverish, electric crowds\".[398] New York City\\'s residents are prominently known for their resilience historically, and more recently related to their management of the impacts of the 9/11 terrorist attacks and the COVID-19 pandemic.[400][401][402] New York was voted the world\\'s most resilient city in 2021 and 2022 per Time Out\\'s global poll of urban residents.[401]', metadata={'language': 'en', 'source': 'https://en.wikipedia.org/wiki/New_York_City', 'title': 'New York City - Wikipedia'})]}"
      ]
     },
     "execution_count": 51,
     "metadata": {},
     "output_type": "execute_result"
    }
   ],
   "source": [
    "result = deepcopy(results_orig)\n",
    "result"
   ]
  },
  {
   "cell_type": "code",
   "execution_count": 52,
   "metadata": {},
   "outputs": [
    {
     "data": {
      "text/plain": [
       "{'query': 'How did New York City get its name?',\n",
       " 'result': 'New York City got its name in 1664 when it was renamed after King Charles II granted the lands to his brother, the Duke of York. It was previously known as New Amsterdam when it was founded by Dutch colonists in 1626. The city came under British control in 1664 and was renamed New York.',\n",
       " 'source_documents': [Document(page_content=\"Etymology\\nSee also: Nicknames of New York City\\nIn 1664, New York was named in honor of the Duke of York (later King James\\xa0II of England).[32] James's elder brother, King Charles\\xa0II, appointed the Duke as proprietor of the former territory of New Netherland, including the city of New Amsterdam, when England seized it from Dutch control.[33]\", metadata={'language': 'en', 'source': 'https://en.wikipedia.org/wiki/New_York_City', 'title': 'New York City - Wikipedia'}),\n",
       "  Document(page_content='New York City traces its origins to Fort Amsterdam and a trading post founded on the southern tip of Manhattan Island by Dutch colonists in approximately 1624. The settlement was named New Amsterdam (Dutch: Nieuw Amsterdam) in 1626 and was chartered as a city in 1653. The city came under British control in 1664 and was renamed New York after King Charles II granted the lands to his brother, the Duke of York.[17] The city was temporarily regained by the Dutch in July 1673 and was renamed New Orange; the city has been named New York since November 1674. New York City was the capital of the United States from 1785 until 1790,[18] and has been the largest U.S. city since 1790. The Statue of Liberty greeted millions of immigrants as they came to the U.S. via Ellis Island by ship in the late 19th and early 20th centuries, and is a symbol of the U.S. and its ideals of liberty and peace.[19]', metadata={'language': 'en', 'source': 'https://en.wikipedia.org/wiki/New_York_City', 'title': 'New York City - Wikipedia'}),\n",
       "  Document(page_content='Retrieved from \"https://en.wikipedia.org/w/index.php?title=New_York_City&oldid=1192038477\"', metadata={'language': 'en', 'source': 'https://en.wikipedia.org/wiki/New_York_City', 'title': 'New York City - Wikipedia'}),\n",
       "  Document(page_content='One of the most common traits attributed to New York City is its fast pace,[396][397][398] which spawned the term New York minute.[399] Journalist Walt Whitman characterized New York\\'s streets as being traversed by \"hurrying, feverish, electric crowds\".[398] New York City\\'s residents are prominently known for their resilience historically, and more recently related to their management of the impacts of the 9/11 terrorist attacks and the COVID-19 pandemic.[400][401][402] New York was voted the world\\'s most resilient city in 2021 and 2022 per Time Out\\'s global poll of urban residents.[401]', metadata={'language': 'en', 'source': 'https://en.wikipedia.org/wiki/New_York_City', 'title': 'New York City - Wikipedia'})],\n",
       " 'ground_truths': 'New York City got its name in 1664 when it was renamed after King Charles II granted the lands to his brother, the Duke of York. It was previously known as New Amsterdam when it was founded by Dutch colonists in 1626. The city came under British control in 1664 and was renamed New York.'}"
      ]
     },
     "execution_count": 52,
     "metadata": {},
     "output_type": "execute_result"
    }
   ],
   "source": [
    "# Add four bad docs to the end of the results list.\n",
    "myd = deepcopy(result['source_documents'][0])\n",
    "# myd.page_content = 'dog '*50\n",
    "# result['source_documents'].extend([myd, myd, myd, myd])\n",
    "# result['source_documents']\n",
    "\n",
    "# Adding the ground_truths key for the context_recall evaluation\n",
    "result['ground_truths'] = result['result']\n",
    "\n",
    "result"
   ]
  },
  {
   "cell_type": "code",
   "execution_count": 53,
   "metadata": {},
   "outputs": [
    {
     "data": {
      "text/plain": [
       "RagasEvaluatorChain(metric=ContextRecall(batch_size=15, llm=OpenAI(model='gpt-3.5-turbo-16k', _api_key_env_var='OPENAI_API_KEY'), name='context_recall', evaluation_mode=<EvaluationMode.qcg: 7>))"
      ]
     },
     "execution_count": 53,
     "metadata": {},
     "output_type": "execute_result"
    }
   ],
   "source": [
    "context_recall_chain = RagasEvaluatorChain(metric=context_recall) #['context_recall_score']\n",
    "\n",
    "context_recall_chain"
   ]
  },
  {
   "cell_type": "code",
   "execution_count": 54,
   "metadata": {},
   "outputs": [
    {
     "data": {
      "text/plain": [
       "{'query': 'How did New York City get its name?',\n",
       " 'result': 'New York City got its name in 1664 when it was renamed after King Charles II granted the lands to his brother, the Duke of York. It was previously known as New Amsterdam when it was founded by Dutch colonists in 1626. The city came under British control in 1664 and was renamed New York.',\n",
       " 'source_documents': [Document(page_content=\"Etymology\\nSee also: Nicknames of New York City\\nIn 1664, New York was named in honor of the Duke of York (later King James\\xa0II of England).[32] James's elder brother, King Charles\\xa0II, appointed the Duke as proprietor of the former territory of New Netherland, including the city of New Amsterdam, when England seized it from Dutch control.[33]\", metadata={'language': 'en', 'source': 'https://en.wikipedia.org/wiki/New_York_City', 'title': 'New York City - Wikipedia'}),\n",
       "  Document(page_content='New York City traces its origins to Fort Amsterdam and a trading post founded on the southern tip of Manhattan Island by Dutch colonists in approximately 1624. The settlement was named New Amsterdam (Dutch: Nieuw Amsterdam) in 1626 and was chartered as a city in 1653. The city came under British control in 1664 and was renamed New York after King Charles II granted the lands to his brother, the Duke of York.[17] The city was temporarily regained by the Dutch in July 1673 and was renamed New Orange; the city has been named New York since November 1674. New York City was the capital of the United States from 1785 until 1790,[18] and has been the largest U.S. city since 1790. The Statue of Liberty greeted millions of immigrants as they came to the U.S. via Ellis Island by ship in the late 19th and early 20th centuries, and is a symbol of the U.S. and its ideals of liberty and peace.[19]', metadata={'language': 'en', 'source': 'https://en.wikipedia.org/wiki/New_York_City', 'title': 'New York City - Wikipedia'}),\n",
       "  Document(page_content='Retrieved from \"https://en.wikipedia.org/w/index.php?title=New_York_City&oldid=1192038477\"', metadata={'language': 'en', 'source': 'https://en.wikipedia.org/wiki/New_York_City', 'title': 'New York City - Wikipedia'}),\n",
       "  Document(page_content='One of the most common traits attributed to New York City is its fast pace,[396][397][398] which spawned the term New York minute.[399] Journalist Walt Whitman characterized New York\\'s streets as being traversed by \"hurrying, feverish, electric crowds\".[398] New York City\\'s residents are prominently known for their resilience historically, and more recently related to their management of the impacts of the 9/11 terrorist attacks and the COVID-19 pandemic.[400][401][402] New York was voted the world\\'s most resilient city in 2021 and 2022 per Time Out\\'s global poll of urban residents.[401]', metadata={'language': 'en', 'source': 'https://en.wikipedia.org/wiki/New_York_City', 'title': 'New York City - Wikipedia'})],\n",
       " 'ground_truths': 'New York City got its name in 1664 when it was renamed after King Charles II granted the lands to his brother, the Duke of York. It was previously known as New Amsterdam when it was founded by Dutch colonists in 1626. The city came under British control in 1664 and was renamed New York.',\n",
       " 'context_recall_score': 1.0}"
      ]
     },
     "execution_count": 54,
     "metadata": {},
     "output_type": "execute_result"
    }
   ],
   "source": [
    "context_recall_chain(result)"
   ]
  },
  {
   "cell_type": "code",
   "execution_count": 55,
   "metadata": {},
   "outputs": [
    {
     "data": {
      "text/plain": [
       "dict_keys(['query', 'result', 'source_documents', 'ground_truths'])"
      ]
     },
     "execution_count": 55,
     "metadata": {},
     "output_type": "execute_result"
    }
   ],
   "source": [
    "result.keys()"
   ]
  },
  {
   "cell_type": "code",
   "execution_count": 56,
   "metadata": {},
   "outputs": [],
   "source": [
    "# result['result']  = result['result'] *4\n",
    "# result['result']\n",
    "# RagasEvaluatorChain(metric=answer_relevancy)(result)['answer_relevancy_score']"
   ]
  },
  {
   "cell_type": "code",
   "execution_count": 57,
   "metadata": {},
   "outputs": [
    {
     "data": {
      "text/plain": [
       "'dog dog dog dog dog dog dog dog dog dog dog dog dog dog dog dog dog dog dog dog dog dog dog dog dog dog dog dog dog dog dog dog dog dog dog dog dog dog dog dog dog dog dog dog dog dog dog dog dog dog '"
      ]
     },
     "execution_count": 57,
     "metadata": {},
     "output_type": "execute_result"
    }
   ],
   "source": [
    "# Should kill this metric.\n",
    "result['result'] = 'dog ' * 50\n",
    "result['result'] "
   ]
  },
  {
   "cell_type": "code",
   "execution_count": 58,
   "metadata": {},
   "outputs": [
    {
     "data": {
      "text/plain": [
       "{'query': 'How did New York City get its name?',\n",
       " 'result': 'dog dog dog dog dog dog dog dog dog dog dog dog dog dog dog dog dog dog dog dog dog dog dog dog dog dog dog dog dog dog dog dog dog dog dog dog dog dog dog dog dog dog dog dog dog dog dog dog dog dog ',\n",
       " 'source_documents': [Document(page_content=\"Etymology\\nSee also: Nicknames of New York City\\nIn 1664, New York was named in honor of the Duke of York (later King James\\xa0II of England).[32] James's elder brother, King Charles\\xa0II, appointed the Duke as proprietor of the former territory of New Netherland, including the city of New Amsterdam, when England seized it from Dutch control.[33]\", metadata={'language': 'en', 'source': 'https://en.wikipedia.org/wiki/New_York_City', 'title': 'New York City - Wikipedia'}),\n",
       "  Document(page_content='New York City traces its origins to Fort Amsterdam and a trading post founded on the southern tip of Manhattan Island by Dutch colonists in approximately 1624. The settlement was named New Amsterdam (Dutch: Nieuw Amsterdam) in 1626 and was chartered as a city in 1653. The city came under British control in 1664 and was renamed New York after King Charles II granted the lands to his brother, the Duke of York.[17] The city was temporarily regained by the Dutch in July 1673 and was renamed New Orange; the city has been named New York since November 1674. New York City was the capital of the United States from 1785 until 1790,[18] and has been the largest U.S. city since 1790. The Statue of Liberty greeted millions of immigrants as they came to the U.S. via Ellis Island by ship in the late 19th and early 20th centuries, and is a symbol of the U.S. and its ideals of liberty and peace.[19]', metadata={'language': 'en', 'source': 'https://en.wikipedia.org/wiki/New_York_City', 'title': 'New York City - Wikipedia'}),\n",
       "  Document(page_content='Retrieved from \"https://en.wikipedia.org/w/index.php?title=New_York_City&oldid=1192038477\"', metadata={'language': 'en', 'source': 'https://en.wikipedia.org/wiki/New_York_City', 'title': 'New York City - Wikipedia'}),\n",
       "  Document(page_content='One of the most common traits attributed to New York City is its fast pace,[396][397][398] which spawned the term New York minute.[399] Journalist Walt Whitman characterized New York\\'s streets as being traversed by \"hurrying, feverish, electric crowds\".[398] New York City\\'s residents are prominently known for their resilience historically, and more recently related to their management of the impacts of the 9/11 terrorist attacks and the COVID-19 pandemic.[400][401][402] New York was voted the world\\'s most resilient city in 2021 and 2022 per Time Out\\'s global poll of urban residents.[401]', metadata={'language': 'en', 'source': 'https://en.wikipedia.org/wiki/New_York_City', 'title': 'New York City - Wikipedia'})],\n",
       " 'ground_truths': 'New York City got its name in 1664 when it was renamed after King Charles II granted the lands to his brother, the Duke of York. It was previously known as New Amsterdam when it was founded by Dutch colonists in 1626. The city came under British control in 1664 and was renamed New York.',\n",
       " 'context_recall_score': 1.0}"
      ]
     },
     "execution_count": 58,
     "metadata": {},
     "output_type": "execute_result"
    }
   ],
   "source": [
    "# Evaluate the results using the RagasEvaluatorChain with the context_recall metric.\n",
    "# RagasEvaluatorChain: Likely a class or function for evaluating text generation results.\n",
    "# metric=context_recall: Specifies the metric to use for evaluation, focusing on recall of relevant context.\n",
    "# result: The output or results to be evaluated, likely a text string or generated text.\n",
    "\n",
    "\n",
    "# Seems like this should be much much lower.\n",
    "RagasEvaluatorChain(metric=context_recall)(result) # ['answer_relevancy_score']"
   ]
  },
  {
   "cell_type": "code",
   "execution_count": 59,
   "metadata": {},
   "outputs": [
    {
     "data": {
      "text/plain": [
       "[Document(page_content='dog dog dog dog dog dog dog dog dog dog dog dog dog dog dog dog dog dog dog dog dog dog dog dog dog dog dog dog dog dog dog dog dog dog dog dog dog dog dog dog dog dog dog dog dog dog dog dog dog dog ', metadata={'language': 'en', 'source': 'https://en.wikipedia.org/wiki/New_York_City', 'title': 'New York City - Wikipedia'}),\n",
       " Document(page_content='dog dog dog dog dog dog dog dog dog dog dog dog dog dog dog dog dog dog dog dog dog dog dog dog dog dog dog dog dog dog dog dog dog dog dog dog dog dog dog dog dog dog dog dog dog dog dog dog dog dog ', metadata={'language': 'en', 'source': 'https://en.wikipedia.org/wiki/New_York_City', 'title': 'New York City - Wikipedia'}),\n",
       " Document(page_content='dog dog dog dog dog dog dog dog dog dog dog dog dog dog dog dog dog dog dog dog dog dog dog dog dog dog dog dog dog dog dog dog dog dog dog dog dog dog dog dog dog dog dog dog dog dog dog dog dog dog ', metadata={'language': 'en', 'source': 'https://en.wikipedia.org/wiki/New_York_City', 'title': 'New York City - Wikipedia'}),\n",
       " Document(page_content='dog dog dog dog dog dog dog dog dog dog dog dog dog dog dog dog dog dog dog dog dog dog dog dog dog dog dog dog dog dog dog dog dog dog dog dog dog dog dog dog dog dog dog dog dog dog dog dog dog dog ', metadata={'language': 'en', 'source': 'https://en.wikipedia.org/wiki/New_York_City', 'title': 'New York City - Wikipedia'})]"
      ]
     },
     "execution_count": 59,
     "metadata": {},
     "output_type": "execute_result"
    }
   ],
   "source": [
    "## Alter the context to see what that does now that answer way wrong.\n",
    "# - the prompt for this measure uses the context and the answer to generate the question.\n",
    "\n",
    "# Add four bad docs to the end of the results list.\n",
    "myd = deepcopy(result['source_documents'][0])\n",
    "myd.page_content = 'dog '*50\n",
    "result['source_documents'] = [myd, myd, myd, myd]\n",
    "result['source_documents']"
   ]
  },
  {
   "cell_type": "code",
   "execution_count": 60,
   "metadata": {},
   "outputs": [
    {
     "data": {
      "text/plain": [
       "{'query': 'How did New York City get its name?',\n",
       " 'result': 'dog dog dog dog dog dog dog dog dog dog dog dog dog dog dog dog dog dog dog dog dog dog dog dog dog dog dog dog dog dog dog dog dog dog dog dog dog dog dog dog dog dog dog dog dog dog dog dog dog dog ',\n",
       " 'source_documents': [Document(page_content='dog dog dog dog dog dog dog dog dog dog dog dog dog dog dog dog dog dog dog dog dog dog dog dog dog dog dog dog dog dog dog dog dog dog dog dog dog dog dog dog dog dog dog dog dog dog dog dog dog dog ', metadata={'language': 'en', 'source': 'https://en.wikipedia.org/wiki/New_York_City', 'title': 'New York City - Wikipedia'}),\n",
       "  Document(page_content='dog dog dog dog dog dog dog dog dog dog dog dog dog dog dog dog dog dog dog dog dog dog dog dog dog dog dog dog dog dog dog dog dog dog dog dog dog dog dog dog dog dog dog dog dog dog dog dog dog dog ', metadata={'language': 'en', 'source': 'https://en.wikipedia.org/wiki/New_York_City', 'title': 'New York City - Wikipedia'}),\n",
       "  Document(page_content='dog dog dog dog dog dog dog dog dog dog dog dog dog dog dog dog dog dog dog dog dog dog dog dog dog dog dog dog dog dog dog dog dog dog dog dog dog dog dog dog dog dog dog dog dog dog dog dog dog dog ', metadata={'language': 'en', 'source': 'https://en.wikipedia.org/wiki/New_York_City', 'title': 'New York City - Wikipedia'}),\n",
       "  Document(page_content='dog dog dog dog dog dog dog dog dog dog dog dog dog dog dog dog dog dog dog dog dog dog dog dog dog dog dog dog dog dog dog dog dog dog dog dog dog dog dog dog dog dog dog dog dog dog dog dog dog dog ', metadata={'language': 'en', 'source': 'https://en.wikipedia.org/wiki/New_York_City', 'title': 'New York City - Wikipedia'})],\n",
       " 'ground_truths': 'New York City got its name in 1664 when it was renamed after King Charles II granted the lands to his brother, the Duke of York. It was previously known as New Amsterdam when it was founded by Dutch colonists in 1626. The city came under British control in 1664 and was renamed New York.',\n",
       " 'context_recall_score': 0.3333333333333333}"
      ]
     },
     "execution_count": 60,
     "metadata": {},
     "output_type": "execute_result"
    }
   ],
   "source": [
    "RagasEvaluatorChain(metric=context_recall)(result) # ['answer_relevancy_score']"
   ]
  },
  {
   "cell_type": "code",
   "execution_count": null,
   "metadata": {},
   "outputs": [],
   "source": []
  }
 ],
 "metadata": {
  "environment": {
   "kernel": "conda-env-ai_explorations-py",
   "name": "workbench-notebooks.m113",
   "type": "gcloud",
   "uri": "gcr.io/deeplearning-platform-release/workbench-notebooks:m113"
  },
  "kernelspec": {
   "display_name": "generative-ai",
   "language": "python",
   "name": "python3"
  },
  "language_info": {
   "codemirror_mode": {
    "name": "ipython",
    "version": 3
   },
   "file_extension": ".py",
   "mimetype": "text/x-python",
   "name": "python",
   "nbconvert_exporter": "python",
   "pygments_lexer": "ipython3",
   "version": "3.10.12"
  }
 },
 "nbformat": 4,
 "nbformat_minor": 4
}
