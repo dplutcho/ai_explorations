{
 "cells": [
  {
   "cell_type": "markdown",
   "metadata": {},
   "source": [
    "# Metrics manipulattion\n",
    "\n",
    "Key resources\n",
    "* https://docs.ragas.io/en/stable/concepts/metrics/index.html\n",
    "* https://github.com/explodinggradients/ragas/tree/main/src/ragas/metrics (prompts and logic)\n",
    "* https://blog.langchain.dev/evaluating-rag-pipelines-with-ragas-langsmith/ (see the 'under the hood' section)"
   ]
  },
  {
   "cell_type": "markdown",
   "metadata": {},
   "source": [
    "## prep"
   ]
  },
  {
   "cell_type": "code",
   "execution_count": 1,
   "metadata": {},
   "outputs": [],
   "source": [
    "# !pip install -U openai"
   ]
  },
  {
   "cell_type": "code",
   "execution_count": 2,
   "metadata": {},
   "outputs": [],
   "source": [
    "# !pip install openai\n",
    "# # !pip uninstall -y openai"
   ]
  },
  {
   "cell_type": "code",
   "execution_count": 3,
   "metadata": {},
   "outputs": [],
   "source": [
    "# import openai\n",
    "# openai.__version__"
   ]
  },
  {
   "cell_type": "code",
   "execution_count": 4,
   "metadata": {},
   "outputs": [],
   "source": [
    "# !pip install ragas"
   ]
  },
  {
   "cell_type": "code",
   "execution_count": 1,
   "metadata": {},
   "outputs": [],
   "source": [
    "from copy import deepcopy\n",
    "import os\n",
    "import openai"
   ]
  },
  {
   "cell_type": "code",
   "execution_count": 11,
   "metadata": {},
   "outputs": [],
   "source": [
    "from dotenv import load_dotenv\n",
    "load_dotenv()\n",
    "\n",
    "openaikey = os.getenv('OPENAI_API_KEY')\n",
    "openai.api_key = openaikey"
   ]
  },
  {
   "cell_type": "markdown",
   "metadata": {},
   "source": [
    "## Alter inputs to understand metrics\n",
    "* https://blog.langchain.dev/evaluating-rag-pipelines-with-ragas-langsmith/"
   ]
  },
  {
   "cell_type": "markdown",
   "metadata": {},
   "source": [
    "## Eval single doc"
   ]
  },
  {
   "cell_type": "code",
   "execution_count": 1,
   "metadata": {
    "tags": []
   },
   "outputs": [],
   "source": [
    "import langchain"
   ]
  },
  {
   "cell_type": "code",
   "execution_count": 3,
   "metadata": {
    "tags": []
   },
   "outputs": [],
   "source": [
    "from langchain.document_loaders import WebBaseLoader\n",
    "from langchain.indexes import VectorstoreIndexCreator\n",
    "from langchain.chains import RetrievalQA\n",
    "from langchain.chat_models import ChatOpenAI"
   ]
  },
  {
   "cell_type": "code",
   "execution_count": 13,
   "metadata": {},
   "outputs": [
    {
     "data": {
      "text/plain": [
       "'New York City was named after the Duke of York, who later became King James II of England. In 1664, King Charles II appointed his brother, the Duke of York, as the proprietor of the territory of New Netherland, which included the city of New Amsterdam. When England seized control of the area from the Dutch, it was renamed New York in honor of the Duke.'"
      ]
     },
     "execution_count": 13,
     "metadata": {},
     "output_type": "execute_result"
    }
   ],
   "source": [
    "## set up and run the retrieval chain.\n",
    "# - for one doc chunked.\n",
    "\n",
    "# load the Wikipedia page and create index\n",
    "loader = WebBaseLoader(\"https://en.wikipedia.org/wiki/New_York_City\")\n",
    "index = VectorstoreIndexCreator().from_loaders([loader])\n",
    "\n",
    "# create the QA chain\n",
    "llm = ChatOpenAI()\n",
    "qa_chain = RetrievalQA.from_chain_type(\n",
    "    llm, retriever=index.vectorstore.as_retriever(), return_source_documents=True\n",
    ")\n",
    "\n",
    "# testing it out\n",
    "question = \"How did New York City get its name?\"\n",
    "result = qa_chain({\"query\": question})\n",
    "result[\"result\"]"
   ]
  },
  {
   "cell_type": "code",
   "execution_count": 16,
   "metadata": {},
   "outputs": [
    {
     "data": {
      "text/plain": [
       "dict_keys(['query', 'result', 'source_documents'])"
      ]
     },
     "execution_count": 16,
     "metadata": {},
     "output_type": "execute_result"
    }
   ],
   "source": [
    "result.keys()"
   ]
  },
  {
   "cell_type": "code",
   "execution_count": 17,
   "metadata": {},
   "outputs": [],
   "source": [
    "results_orig = deepcopy(result)"
   ]
  },
  {
   "cell_type": "code",
   "execution_count": 18,
   "metadata": {},
   "outputs": [],
   "source": [
    "## Prep the eval chain.\n",
    "#\n",
    "from ragas.metrics import faithfulness, answer_relevancy, context_precision, context_recall\n",
    "from ragas.langchain import RagasEvaluatorChain\n",
    "\n",
    "# make eval chains\n",
    "eval_chains = {m.name: RagasEvaluatorChain(metric=m) for m in [faithfulness, answer_relevancy, context_precision] } # context_recall"
   ]
  },
  {
   "cell_type": "code",
   "execution_count": 20,
   "metadata": {},
   "outputs": [
    {
     "name": "stdout",
     "output_type": "stream",
     "text": [
      "faithfulness_score: 1.0\n",
      "answer_relevancy_score: 0.9329907247343107\n",
      "context_precision_score: 0.99999999995\n"
     ]
    }
   ],
   "source": [
    "# Run each eval separately.\n",
    "for name, eval_chain in eval_chains.items():\n",
    "    score_name = f\"{name}_score\"\n",
    "    print(f\"{score_name}: {eval_chain(result)[score_name]}\")"
   ]
  },
  {
   "cell_type": "markdown",
   "metadata": {},
   "source": [
    "## faithfullness (answer to the context)\n",
    "* answer is regarded as faithful if all the claims that are made in the answer can be inferred from the given context.\n",
    "* One prompt to extract statements (sentences?) and a second prompt to judge groundedness."
   ]
  },
  {
   "cell_type": "code",
   "execution_count": 21,
   "metadata": {},
   "outputs": [
    {
     "data": {
      "text/plain": [
       "1.0"
      ]
     },
     "execution_count": 21,
     "metadata": {},
     "output_type": "execute_result"
    }
   ],
   "source": [
    "RagasEvaluatorChain(metric=faithfulness)(result)['faithfulness_score']"
   ]
  },
  {
   "cell_type": "code",
   "execution_count": 24,
   "metadata": {},
   "outputs": [],
   "source": [
    "result = deepcopy(results_orig)"
   ]
  },
  {
   "cell_type": "code",
   "execution_count": null,
   "metadata": {},
   "outputs": [],
   "source": [
    "## Adding eroneous contexts/docs should NOT affect faithfulness.\n",
    "# - sonce all the answers are still available in the context docs."
   ]
  },
  {
   "cell_type": "code",
   "execution_count": null,
   "metadata": {},
   "outputs": [
    {
     "data": {
      "text/plain": [
       "[Document(page_content=\"Etymology\\nSee also: Nicknames of New York City\\nIn 1664, New York was named in honor of the Duke of York (later King James\\xa0II of England).[35] James's elder brother, King Charles\\xa0II, appointed the Duke as proprietor of the former territory of New Netherland, including the city of New Amsterdam, when England seized it from Dutch control.[36]\", metadata={'source': 'https://en.wikipedia.org/wiki/New_York_City', 'title': 'New York City - Wikipedia', 'language': 'en'}),\n",
       " Document(page_content='New York City traces its origins to Fort Amsterdam and a trading post founded on the southern tip of Manhattan Island by Dutch colonists in approximately 1624. The settlement was named New Amsterdam (Dutch: Nieuw Amsterdam) in 1626 and was chartered as a city in 1653. The city came under British control in 1664 and was renamed New York after King Charles II granted the lands to his brother, the Duke of York.[21] The city was temporarily regained by the Dutch in July 1673 and was renamed New Orange; the city has been named New York since November 1674. New York City was the capital of the United States from 1785 until 1790,[22] and has been the largest U.S. city since 1790. The Statue of Liberty greeted millions of immigrants as they came to the U.S. via Ellis Island by ship in the late 19th and early 20th centuries, and is a symbol of the U.S. and its ideals of liberty and peace.[23]', metadata={'source': 'https://en.wikipedia.org/wiki/New_York_City', 'title': 'New York City - Wikipedia', 'language': 'en'}),\n",
       " Document(page_content='Retrieved from \"https://en.wikipedia.org/w/index.php?title=New_York_City&oldid=1188973942\"', metadata={'source': 'https://en.wikipedia.org/wiki/New_York_City', 'title': 'New York City - Wikipedia', 'language': 'en'}),\n",
       " Document(page_content='^ Nigro, Carmen. \"So, Why Do We Call It Gotham, Anyway?\", New York Public Library,  January 25, 2011. Accessed March 3, 2023. \"It is here that we learn that the term Gotham is tied to the author Washington Irving, famous for his short stories The Legend of Sleepy Hollow, and Rip Van Winkle.  It\\'s also here that we learn Irving was being less than flattering when he nicknamed the city in 1807.\"\\n\\n^ \"US Gazetteer files: 2010, 2000, and 1990\". United States Census Bureau. February 12, 2011. Retrieved April 23, 2011.\\n\\n^ \"ArcGIS REST Services Directory\". United States Census Bureau. Retrieved September 20, 2022.\\n\\n^ a b \"QuickFacts: New York city, New York\". census.gov. United States Census Bureau. Retrieved January 21, 2023.\\n\\n^ \"New York City\\'s Current Population Estimates and Trends ‚Äì 2022\" (PDF). New York City. Retrieved October 10, 2023.\\n\\n^ \"List of 2020 Census Urban Areas\". census.gov. United States Census Bureau. Retrieved January 8, 2023.', metadata={'source': 'https://en.wikipedia.org/wiki/New_York_City', 'title': 'New York City - Wikipedia', 'language': 'en'}),\n",
       " Document(page_content='dog dog dog dog dog dog dog dog dog dog dog dog dog dog dog dog dog dog dog dog dog dog dog dog dog dog dog dog dog dog dog dog dog dog dog dog dog dog dog dog dog dog dog dog dog dog dog dog dog dog ', metadata={'source': 'https://en.wikipedia.org/wiki/New_York_City', 'title': 'New York City - Wikipedia', 'language': 'en'}),\n",
       " Document(page_content='dog dog dog dog dog dog dog dog dog dog dog dog dog dog dog dog dog dog dog dog dog dog dog dog dog dog dog dog dog dog dog dog dog dog dog dog dog dog dog dog dog dog dog dog dog dog dog dog dog dog ', metadata={'source': 'https://en.wikipedia.org/wiki/New_York_City', 'title': 'New York City - Wikipedia', 'language': 'en'}),\n",
       " Document(page_content='dog dog dog dog dog dog dog dog dog dog dog dog dog dog dog dog dog dog dog dog dog dog dog dog dog dog dog dog dog dog dog dog dog dog dog dog dog dog dog dog dog dog dog dog dog dog dog dog dog dog ', metadata={'source': 'https://en.wikipedia.org/wiki/New_York_City', 'title': 'New York City - Wikipedia', 'language': 'en'}),\n",
       " Document(page_content='dog dog dog dog dog dog dog dog dog dog dog dog dog dog dog dog dog dog dog dog dog dog dog dog dog dog dog dog dog dog dog dog dog dog dog dog dog dog dog dog dog dog dog dog dog dog dog dog dog dog ', metadata={'source': 'https://en.wikipedia.org/wiki/New_York_City', 'title': 'New York City - Wikipedia', 'language': 'en'})]"
      ]
     },
     "metadata": {},
     "output_type": "display_data"
    }
   ],
   "source": [
    "# Add four bad docs to the end of the results list.\n",
    "myd = deepcopy(myr['source_documents'][0])\n",
    "myd.page_content = 'dog '*50\n",
    "result['source_documents'].extend([myd, myd, myd, myd])\n",
    "result['source_documents']"
   ]
  },
  {
   "cell_type": "code",
   "execution_count": null,
   "metadata": {},
   "outputs": [
    {
     "data": {
      "text/plain": [
       "1.0"
      ]
     },
     "metadata": {},
     "output_type": "display_data"
    }
   ],
   "source": [
    "# This should have no effect on faithfulness, it's just extra, unused context.\n",
    "RagasEvaluatorChain(metric=faithfulness)(result)['faithfulness_score']"
   ]
  },
  {
   "cell_type": "code",
   "execution_count": null,
   "metadata": {},
   "outputs": [
    {
     "data": {
      "text/plain": [
       "[Document(page_content='dog dog dog dog dog dog dog dog dog dog dog dog dog dog dog dog dog dog dog dog dog dog dog dog dog dog dog dog dog dog dog dog dog dog dog dog dog dog dog dog dog dog dog dog dog dog dog dog dog dog ', metadata={'source': 'https://en.wikipedia.org/wiki/New_York_City', 'title': 'New York City - Wikipedia', 'language': 'en'}),\n",
       " Document(page_content='dog dog dog dog dog dog dog dog dog dog dog dog dog dog dog dog dog dog dog dog dog dog dog dog dog dog dog dog dog dog dog dog dog dog dog dog dog dog dog dog dog dog dog dog dog dog dog dog dog dog ', metadata={'source': 'https://en.wikipedia.org/wiki/New_York_City', 'title': 'New York City - Wikipedia', 'language': 'en'}),\n",
       " Document(page_content='dog dog dog dog dog dog dog dog dog dog dog dog dog dog dog dog dog dog dog dog dog dog dog dog dog dog dog dog dog dog dog dog dog dog dog dog dog dog dog dog dog dog dog dog dog dog dog dog dog dog ', metadata={'source': 'https://en.wikipedia.org/wiki/New_York_City', 'title': 'New York City - Wikipedia', 'language': 'en'}),\n",
       " Document(page_content='dog dog dog dog dog dog dog dog dog dog dog dog dog dog dog dog dog dog dog dog dog dog dog dog dog dog dog dog dog dog dog dog dog dog dog dog dog dog dog dog dog dog dog dog dog dog dog dog dog dog ', metadata={'source': 'https://en.wikipedia.org/wiki/New_York_City', 'title': 'New York City - Wikipedia', 'language': 'en'})]"
      ]
     },
     "metadata": {},
     "output_type": "display_data"
    }
   ],
   "source": [
    "## removing all the relevant docs should kill faithfulness.\n",
    "#\n",
    "result['source_documents'] = result['source_documents'][4:]\n",
    "result['source_documents']"
   ]
  },
  {
   "cell_type": "code",
   "execution_count": null,
   "metadata": {},
   "outputs": [
    {
     "data": {
      "text/plain": [
       "0.0"
      ]
     },
     "metadata": {},
     "output_type": "display_data"
    }
   ],
   "source": [
    "RagasEvaluatorChain(metric=faithfulness)(result)['faithfulness_score']"
   ]
  },
  {
   "cell_type": "markdown",
   "metadata": {},
   "source": [
    "## answer_relevancy\n",
    "* measures the relevancy of the answer to the question.\n",
    "* gens questions from answer then measures similarity of these generate questions to original question.\n",
    "* does not seem to work as expected. When kill answer and context-docs still getting 0.7 score."
   ]
  },
  {
   "cell_type": "code",
   "execution_count": 25,
   "metadata": {},
   "outputs": [],
   "source": [
    "result = deepcopy(results_orig)"
   ]
  },
  {
   "cell_type": "code",
   "execution_count": 26,
   "metadata": {},
   "outputs": [
    {
     "data": {
      "text/plain": [
       "0.9329907247343107"
      ]
     },
     "execution_count": 26,
     "metadata": {},
     "output_type": "execute_result"
    }
   ],
   "source": [
    "RagasEvaluatorChain(metric=answer_relevancy)(result)['answer_relevancy_score']"
   ]
  },
  {
   "cell_type": "code",
   "execution_count": 28,
   "metadata": {},
   "outputs": [
    {
     "data": {
      "text/plain": [
       "dict_keys(['query', 'result', 'source_documents'])"
      ]
     },
     "execution_count": 28,
     "metadata": {},
     "output_type": "execute_result"
    }
   ],
   "source": [
    "result.keys()"
   ]
  },
  {
   "cell_type": "code",
   "execution_count": 27,
   "metadata": {},
   "outputs": [
    {
     "data": {
      "text/plain": [
       "{'query': 'How did New York City get its name?',\n",
       " 'result': 'New York City was named after the Duke of York, who later became King James II of England. In 1664, King Charles II appointed his brother, the Duke of York, as the proprietor of the territory of New Netherland, which included the city of New Amsterdam. When England seized control of the area from the Dutch, it was renamed New York in honor of the Duke.',\n",
       " 'source_documents': [Document(page_content=\"Etymology\\nSee also: Nicknames of New York City\\nIn 1664, New York was named in honor of the Duke of York (later King James\\xa0II of England).[35] James's elder brother, King Charles\\xa0II, appointed the Duke as proprietor of the former territory of New Netherland, including the city of New Amsterdam, when England seized it from Dutch control.[36]\", metadata={'language': 'en', 'source': 'https://en.wikipedia.org/wiki/New_York_City', 'title': 'New York City - Wikipedia'}),\n",
       "  Document(page_content=\"Etymology\\nSee also: Nicknames of New York City\\nIn 1664, New York was named in honor of the Duke of York (later King James\\xa0II of England).[35] James's elder brother, King Charles\\xa0II, appointed the Duke as proprietor of the former territory of New Netherland, including the city of New Amsterdam, when England seized it from Dutch control.[36]\", metadata={'language': 'en', 'source': 'https://en.wikipedia.org/wiki/New_York_City', 'title': 'New York City - Wikipedia'}),\n",
       "  Document(page_content='New York City traces its origins to Fort Amsterdam and a trading post founded on the southern tip of Manhattan Island by Dutch colonists in approximately 1624. The settlement was named New Amsterdam (Dutch: Nieuw Amsterdam) in 1626 and was chartered as a city in 1653. The city came under British control in 1664 and was renamed New York after King Charles II granted the lands to his brother, the Duke of York.[21] The city was temporarily regained by the Dutch in July 1673 and was renamed New Orange; the city has been named New York since November 1674. New York City was the capital of the United States from 1785 until 1790,[22] and has been the largest U.S. city since 1790. The Statue of Liberty greeted millions of immigrants as they came to the U.S. via Ellis Island by ship in the late 19th and early 20th centuries, and is a symbol of the U.S. and its ideals of liberty and peace.[23]', metadata={'language': 'en', 'source': 'https://en.wikipedia.org/wiki/New_York_City', 'title': 'New York City - Wikipedia'}),\n",
       "  Document(page_content='New York City traces its origins to Fort Amsterdam and a trading post founded on the southern tip of Manhattan Island by Dutch colonists in approximately 1624. The settlement was named New Amsterdam (Dutch: Nieuw Amsterdam) in 1626 and was chartered as a city in 1653. The city came under British control in 1664 and was renamed New York after King Charles II granted the lands to his brother, the Duke of York.[21] The city was temporarily regained by the Dutch in July 1673 and was renamed New Orange; the city has been named New York since November 1674. New York City was the capital of the United States from 1785 until 1790,[22] and has been the largest U.S. city since 1790. The Statue of Liberty greeted millions of immigrants as they came to the U.S. via Ellis Island by ship in the late 19th and early 20th centuries, and is a symbol of the U.S. and its ideals of liberty and peace.[23]', metadata={'language': 'en', 'source': 'https://en.wikipedia.org/wiki/New_York_City', 'title': 'New York City - Wikipedia'})]}"
      ]
     },
     "execution_count": 27,
     "metadata": {},
     "output_type": "execute_result"
    }
   ],
   "source": [
    "# result['result']\n",
    "result"
   ]
  },
  {
   "cell_type": "code",
   "execution_count": null,
   "metadata": {},
   "outputs": [],
   "source": [
    "# result['result']  = result['result'] *4\n",
    "# result['result']\n",
    "# RagasEvaluatorChain(metric=answer_relevancy)(result)['answer_relevancy_score']"
   ]
  },
  {
   "cell_type": "code",
   "execution_count": 29,
   "metadata": {},
   "outputs": [
    {
     "data": {
      "text/plain": [
       "'dog dog dog dog dog dog dog dog dog dog dog dog dog dog dog dog dog dog dog dog dog dog dog dog dog dog dog dog dog dog dog dog dog dog dog dog dog dog dog dog dog dog dog dog dog dog dog dog dog dog '"
      ]
     },
     "execution_count": 29,
     "metadata": {},
     "output_type": "execute_result"
    }
   ],
   "source": [
    "# Should kill this metric.\n",
    "result['result'] = 'dog ' * 50\n",
    "result['result'] "
   ]
  },
  {
   "cell_type": "code",
   "execution_count": 31,
   "metadata": {},
   "outputs": [
    {
     "data": {
      "text/plain": [
       "{'query': 'How did New York City get its name?',\n",
       " 'result': 'dog dog dog dog dog dog dog dog dog dog dog dog dog dog dog dog dog dog dog dog dog dog dog dog dog dog dog dog dog dog dog dog dog dog dog dog dog dog dog dog dog dog dog dog dog dog dog dog dog dog ',\n",
       " 'source_documents': [Document(page_content=\"Etymology\\nSee also: Nicknames of New York City\\nIn 1664, New York was named in honor of the Duke of York (later King James\\xa0II of England).[35] James's elder brother, King Charles\\xa0II, appointed the Duke as proprietor of the former territory of New Netherland, including the city of New Amsterdam, when England seized it from Dutch control.[36]\", metadata={'language': 'en', 'source': 'https://en.wikipedia.org/wiki/New_York_City', 'title': 'New York City - Wikipedia'}),\n",
       "  Document(page_content=\"Etymology\\nSee also: Nicknames of New York City\\nIn 1664, New York was named in honor of the Duke of York (later King James\\xa0II of England).[35] James's elder brother, King Charles\\xa0II, appointed the Duke as proprietor of the former territory of New Netherland, including the city of New Amsterdam, when England seized it from Dutch control.[36]\", metadata={'language': 'en', 'source': 'https://en.wikipedia.org/wiki/New_York_City', 'title': 'New York City - Wikipedia'}),\n",
       "  Document(page_content='New York City traces its origins to Fort Amsterdam and a trading post founded on the southern tip of Manhattan Island by Dutch colonists in approximately 1624. The settlement was named New Amsterdam (Dutch: Nieuw Amsterdam) in 1626 and was chartered as a city in 1653. The city came under British control in 1664 and was renamed New York after King Charles II granted the lands to his brother, the Duke of York.[21] The city was temporarily regained by the Dutch in July 1673 and was renamed New Orange; the city has been named New York since November 1674. New York City was the capital of the United States from 1785 until 1790,[22] and has been the largest U.S. city since 1790. The Statue of Liberty greeted millions of immigrants as they came to the U.S. via Ellis Island by ship in the late 19th and early 20th centuries, and is a symbol of the U.S. and its ideals of liberty and peace.[23]', metadata={'language': 'en', 'source': 'https://en.wikipedia.org/wiki/New_York_City', 'title': 'New York City - Wikipedia'}),\n",
       "  Document(page_content='New York City traces its origins to Fort Amsterdam and a trading post founded on the southern tip of Manhattan Island by Dutch colonists in approximately 1624. The settlement was named New Amsterdam (Dutch: Nieuw Amsterdam) in 1626 and was chartered as a city in 1653. The city came under British control in 1664 and was renamed New York after King Charles II granted the lands to his brother, the Duke of York.[21] The city was temporarily regained by the Dutch in July 1673 and was renamed New Orange; the city has been named New York since November 1674. New York City was the capital of the United States from 1785 until 1790,[22] and has been the largest U.S. city since 1790. The Statue of Liberty greeted millions of immigrants as they came to the U.S. via Ellis Island by ship in the late 19th and early 20th centuries, and is a symbol of the U.S. and its ideals of liberty and peace.[23]', metadata={'language': 'en', 'source': 'https://en.wikipedia.org/wiki/New_York_City', 'title': 'New York City - Wikipedia'})],\n",
       " 'answer_relevancy_score': 0.9473607830638876}"
      ]
     },
     "execution_count": 31,
     "metadata": {},
     "output_type": "execute_result"
    }
   ],
   "source": [
    "# Seems like this should be much much lower.\n",
    "RagasEvaluatorChain(metric=answer_relevancy)(result) # ['answer_relevancy_score']"
   ]
  },
  {
   "cell_type": "code",
   "execution_count": 33,
   "metadata": {},
   "outputs": [
    {
     "data": {
      "text/plain": [
       "[Document(page_content='dog dog dog dog dog dog dog dog dog dog dog dog dog dog dog dog dog dog dog dog dog dog dog dog dog dog dog dog dog dog dog dog dog dog dog dog dog dog dog dog dog dog dog dog dog dog dog dog dog dog ', metadata={'language': 'en', 'source': 'https://en.wikipedia.org/wiki/New_York_City', 'title': 'New York City - Wikipedia'}),\n",
       " Document(page_content='dog dog dog dog dog dog dog dog dog dog dog dog dog dog dog dog dog dog dog dog dog dog dog dog dog dog dog dog dog dog dog dog dog dog dog dog dog dog dog dog dog dog dog dog dog dog dog dog dog dog ', metadata={'language': 'en', 'source': 'https://en.wikipedia.org/wiki/New_York_City', 'title': 'New York City - Wikipedia'}),\n",
       " Document(page_content='dog dog dog dog dog dog dog dog dog dog dog dog dog dog dog dog dog dog dog dog dog dog dog dog dog dog dog dog dog dog dog dog dog dog dog dog dog dog dog dog dog dog dog dog dog dog dog dog dog dog ', metadata={'language': 'en', 'source': 'https://en.wikipedia.org/wiki/New_York_City', 'title': 'New York City - Wikipedia'}),\n",
       " Document(page_content='dog dog dog dog dog dog dog dog dog dog dog dog dog dog dog dog dog dog dog dog dog dog dog dog dog dog dog dog dog dog dog dog dog dog dog dog dog dog dog dog dog dog dog dog dog dog dog dog dog dog ', metadata={'language': 'en', 'source': 'https://en.wikipedia.org/wiki/New_York_City', 'title': 'New York City - Wikipedia'})]"
      ]
     },
     "execution_count": 33,
     "metadata": {},
     "output_type": "execute_result"
    }
   ],
   "source": [
    "## Alter the context to see what that does now that answer way wrong.\n",
    "# - the prompt for this measure uses the context and the answer to generate the question.\n",
    "\n",
    "# Add four bad docs to the end of the results list.\n",
    "myd = deepcopy(result['source_documents'][0])\n",
    "myd.page_content = 'dog '*50\n",
    "result['source_documents'] = [myd, myd, myd, myd]\n",
    "result['source_documents']"
   ]
  },
  {
   "cell_type": "code",
   "execution_count": 36,
   "metadata": {},
   "outputs": [
    {
     "data": {
      "text/plain": [
       "{'query': 'How did New York City get its name?',\n",
       " 'result': 'dog dog dog dog dog dog dog dog dog dog dog dog dog dog dog dog dog dog dog dog dog dog dog dog dog dog dog dog dog dog dog dog dog dog dog dog dog dog dog dog dog dog dog dog dog dog dog dog dog dog ',\n",
       " 'source_documents': [Document(page_content='dog dog dog dog dog dog dog dog dog dog dog dog dog dog dog dog dog dog dog dog dog dog dog dog dog dog dog dog dog dog dog dog dog dog dog dog dog dog dog dog dog dog dog dog dog dog dog dog dog dog ', metadata={'language': 'en', 'source': 'https://en.wikipedia.org/wiki/New_York_City', 'title': 'New York City - Wikipedia'}),\n",
       "  Document(page_content='dog dog dog dog dog dog dog dog dog dog dog dog dog dog dog dog dog dog dog dog dog dog dog dog dog dog dog dog dog dog dog dog dog dog dog dog dog dog dog dog dog dog dog dog dog dog dog dog dog dog ', metadata={'language': 'en', 'source': 'https://en.wikipedia.org/wiki/New_York_City', 'title': 'New York City - Wikipedia'}),\n",
       "  Document(page_content='dog dog dog dog dog dog dog dog dog dog dog dog dog dog dog dog dog dog dog dog dog dog dog dog dog dog dog dog dog dog dog dog dog dog dog dog dog dog dog dog dog dog dog dog dog dog dog dog dog dog ', metadata={'language': 'en', 'source': 'https://en.wikipedia.org/wiki/New_York_City', 'title': 'New York City - Wikipedia'}),\n",
       "  Document(page_content='dog dog dog dog dog dog dog dog dog dog dog dog dog dog dog dog dog dog dog dog dog dog dog dog dog dog dog dog dog dog dog dog dog dog dog dog dog dog dog dog dog dog dog dog dog dog dog dog dog dog ', metadata={'language': 'en', 'source': 'https://en.wikipedia.org/wiki/New_York_City', 'title': 'New York City - Wikipedia'})],\n",
       " 'answer_relevancy_score': 0.768652502004492}"
      ]
     },
     "execution_count": 36,
     "metadata": {},
     "output_type": "execute_result"
    }
   ],
   "source": [
    "RagasEvaluatorChain(metric=answer_relevancy)(result) # ['answer_relevancy_score']"
   ]
  },
  {
   "cell_type": "markdown",
   "metadata": {},
   "source": [
    "## context precision.\n",
    "* https://docs.ragas.io/en/stable/concepts/metrics/context_precision.html\n",
    "* Search results order is key to this metric. Must have the answers in the top few context chunks to get a good score.\n",
    "* So this retreival metric is all about returning good well ranked results."
   ]
  },
  {
   "cell_type": "code",
   "execution_count": null,
   "metadata": {},
   "outputs": [],
   "source": [
    "result = deepcopy(results_orig)"
   ]
  },
  {
   "cell_type": "code",
   "execution_count": 38,
   "metadata": {},
   "outputs": [
    {
     "data": {
      "text/plain": [
       "{'query': 'How did New York City get its name?',\n",
       " 'result': 'dog dog dog dog dog dog dog dog dog dog dog dog dog dog dog dog dog dog dog dog dog dog dog dog dog dog dog dog dog dog dog dog dog dog dog dog dog dog dog dog dog dog dog dog dog dog dog dog dog dog ',\n",
       " 'source_documents': [Document(page_content='dog dog dog dog dog dog dog dog dog dog dog dog dog dog dog dog dog dog dog dog dog dog dog dog dog dog dog dog dog dog dog dog dog dog dog dog dog dog dog dog dog dog dog dog dog dog dog dog dog dog ', metadata={'language': 'en', 'source': 'https://en.wikipedia.org/wiki/New_York_City', 'title': 'New York City - Wikipedia'}),\n",
       "  Document(page_content='dog dog dog dog dog dog dog dog dog dog dog dog dog dog dog dog dog dog dog dog dog dog dog dog dog dog dog dog dog dog dog dog dog dog dog dog dog dog dog dog dog dog dog dog dog dog dog dog dog dog ', metadata={'language': 'en', 'source': 'https://en.wikipedia.org/wiki/New_York_City', 'title': 'New York City - Wikipedia'}),\n",
       "  Document(page_content='dog dog dog dog dog dog dog dog dog dog dog dog dog dog dog dog dog dog dog dog dog dog dog dog dog dog dog dog dog dog dog dog dog dog dog dog dog dog dog dog dog dog dog dog dog dog dog dog dog dog ', metadata={'language': 'en', 'source': 'https://en.wikipedia.org/wiki/New_York_City', 'title': 'New York City - Wikipedia'}),\n",
       "  Document(page_content='dog dog dog dog dog dog dog dog dog dog dog dog dog dog dog dog dog dog dog dog dog dog dog dog dog dog dog dog dog dog dog dog dog dog dog dog dog dog dog dog dog dog dog dog dog dog dog dog dog dog ', metadata={'language': 'en', 'source': 'https://en.wikipedia.org/wiki/New_York_City', 'title': 'New York City - Wikipedia'})],\n",
       " 'context_precision_score': 0.0}"
      ]
     },
     "execution_count": 38,
     "metadata": {},
     "output_type": "execute_result"
    }
   ],
   "source": [
    "RagasEvaluatorChain(metric=context_precision)(result) # ['context_precision_score']"
   ]
  },
  {
   "cell_type": "code",
   "execution_count": null,
   "metadata": {},
   "outputs": [],
   "source": [
    "# Add bad docs at end of results list. Should have little or no effect on context precision.\n",
    "# - this metric is all about search results rank.\n",
    "\n",
    "myd = deepcopy(result['source_documents'][0])\n",
    "myd.page_content = 'dog '*50\n",
    "result['source_documents'].extend([myd, myd, myd, myd])"
   ]
  },
  {
   "cell_type": "code",
   "execution_count": null,
   "metadata": {},
   "outputs": [
    {
     "data": {
      "text/plain": [
       "[Document(page_content=\"Etymology\\nSee also: Nicknames of New York City\\nIn 1664, New York was named in honor of the Duke of York (later King James\\xa0II of England).[35] James's elder brother, King Charles\\xa0II, appointed the Duke as proprietor of the former territory of New Netherland, including the city of New Amsterdam, when England seized it from Dutch control.[36]\", metadata={'source': 'https://en.wikipedia.org/wiki/New_York_City', 'title': 'New York City - Wikipedia', 'language': 'en'}),\n",
       " Document(page_content='New York City traces its origins to Fort Amsterdam and a trading post founded on the southern tip of Manhattan Island by Dutch colonists in approximately 1624. The settlement was named New Amsterdam (Dutch: Nieuw Amsterdam) in 1626 and was chartered as a city in 1653. The city came under British control in 1664 and was renamed New York after King Charles II granted the lands to his brother, the Duke of York.[21] The city was temporarily regained by the Dutch in July 1673 and was renamed New Orange; the city has been named New York since November 1674. New York City was the capital of the United States from 1785 until 1790,[22] and has been the largest U.S. city since 1790. The Statue of Liberty greeted millions of immigrants as they came to the U.S. via Ellis Island by ship in the late 19th and early 20th centuries, and is a symbol of the U.S. and its ideals of liberty and peace.[23]', metadata={'source': 'https://en.wikipedia.org/wiki/New_York_City', 'title': 'New York City - Wikipedia', 'language': 'en'}),\n",
       " Document(page_content='Retrieved from \"https://en.wikipedia.org/w/index.php?title=New_York_City&oldid=1188973942\"', metadata={'source': 'https://en.wikipedia.org/wiki/New_York_City', 'title': 'New York City - Wikipedia', 'language': 'en'}),\n",
       " Document(page_content='^ Nigro, Carmen. \"So, Why Do We Call It Gotham, Anyway?\", New York Public Library,  January 25, 2011. Accessed March 3, 2023. \"It is here that we learn that the term Gotham is tied to the author Washington Irving, famous for his short stories The Legend of Sleepy Hollow, and Rip Van Winkle.  It\\'s also here that we learn Irving was being less than flattering when he nicknamed the city in 1807.\"\\n\\n^ \"US Gazetteer files: 2010, 2000, and 1990\". United States Census Bureau. February 12, 2011. Retrieved April 23, 2011.\\n\\n^ \"ArcGIS REST Services Directory\". United States Census Bureau. Retrieved September 20, 2022.\\n\\n^ a b \"QuickFacts: New York city, New York\". census.gov. United States Census Bureau. Retrieved January 21, 2023.\\n\\n^ \"New York City\\'s Current Population Estimates and Trends ‚Äì 2022\" (PDF). New York City. Retrieved October 10, 2023.\\n\\n^ \"List of 2020 Census Urban Areas\". census.gov. United States Census Bureau. Retrieved January 8, 2023.', metadata={'source': 'https://en.wikipedia.org/wiki/New_York_City', 'title': 'New York City - Wikipedia', 'language': 'en'}),\n",
       " Document(page_content='dog dog dog dog dog dog dog dog dog dog dog dog dog dog dog dog dog dog dog dog dog dog dog dog dog dog dog dog dog dog dog dog dog dog dog dog dog dog dog dog dog dog dog dog dog dog dog dog dog dog ', metadata={'source': 'https://en.wikipedia.org/wiki/New_York_City', 'title': 'New York City - Wikipedia', 'language': 'en'}),\n",
       " Document(page_content='dog dog dog dog dog dog dog dog dog dog dog dog dog dog dog dog dog dog dog dog dog dog dog dog dog dog dog dog dog dog dog dog dog dog dog dog dog dog dog dog dog dog dog dog dog dog dog dog dog dog ', metadata={'source': 'https://en.wikipedia.org/wiki/New_York_City', 'title': 'New York City - Wikipedia', 'language': 'en'}),\n",
       " Document(page_content='dog dog dog dog dog dog dog dog dog dog dog dog dog dog dog dog dog dog dog dog dog dog dog dog dog dog dog dog dog dog dog dog dog dog dog dog dog dog dog dog dog dog dog dog dog dog dog dog dog dog ', metadata={'source': 'https://en.wikipedia.org/wiki/New_York_City', 'title': 'New York City - Wikipedia', 'language': 'en'}),\n",
       " Document(page_content='dog dog dog dog dog dog dog dog dog dog dog dog dog dog dog dog dog dog dog dog dog dog dog dog dog dog dog dog dog dog dog dog dog dog dog dog dog dog dog dog dog dog dog dog dog dog dog dog dog dog ', metadata={'source': 'https://en.wikipedia.org/wiki/New_York_City', 'title': 'New York City - Wikipedia', 'language': 'en'})]"
      ]
     },
     "metadata": {},
     "output_type": "display_data"
    }
   ],
   "source": [
    "result['source_documents']"
   ]
  },
  {
   "cell_type": "code",
   "execution_count": null,
   "metadata": {},
   "outputs": [
    {
     "data": {
      "text/plain": [
       "0.99999999995"
      ]
     },
     "metadata": {},
     "output_type": "display_data"
    }
   ],
   "source": [
    "RagasEvaluatorChain(metric=context_precision)(result)['context_precision_score']"
   ]
  },
  {
   "cell_type": "code",
   "execution_count": null,
   "metadata": {},
   "outputs": [],
   "source": [
    "## reverse this list.\n",
    "# - this should kill this metric.\n",
    "\n",
    "result['source_documents'] = result['source_documents'][::-1]"
   ]
  },
  {
   "cell_type": "code",
   "execution_count": null,
   "metadata": {},
   "outputs": [
    {
     "data": {
      "text/plain": [
       "[Document(page_content='dog dog dog dog dog dog dog dog dog dog dog dog dog dog dog dog dog dog dog dog dog dog dog dog dog dog dog dog dog dog dog dog dog dog dog dog dog dog dog dog dog dog dog dog dog dog dog dog dog dog ', metadata={'source': 'https://en.wikipedia.org/wiki/New_York_City', 'title': 'New York City - Wikipedia', 'language': 'en'}),\n",
       " Document(page_content='dog dog dog dog dog dog dog dog dog dog dog dog dog dog dog dog dog dog dog dog dog dog dog dog dog dog dog dog dog dog dog dog dog dog dog dog dog dog dog dog dog dog dog dog dog dog dog dog dog dog ', metadata={'source': 'https://en.wikipedia.org/wiki/New_York_City', 'title': 'New York City - Wikipedia', 'language': 'en'}),\n",
       " Document(page_content='dog dog dog dog dog dog dog dog dog dog dog dog dog dog dog dog dog dog dog dog dog dog dog dog dog dog dog dog dog dog dog dog dog dog dog dog dog dog dog dog dog dog dog dog dog dog dog dog dog dog ', metadata={'source': 'https://en.wikipedia.org/wiki/New_York_City', 'title': 'New York City - Wikipedia', 'language': 'en'}),\n",
       " Document(page_content='dog dog dog dog dog dog dog dog dog dog dog dog dog dog dog dog dog dog dog dog dog dog dog dog dog dog dog dog dog dog dog dog dog dog dog dog dog dog dog dog dog dog dog dog dog dog dog dog dog dog ', metadata={'source': 'https://en.wikipedia.org/wiki/New_York_City', 'title': 'New York City - Wikipedia', 'language': 'en'}),\n",
       " Document(page_content='^ Nigro, Carmen. \"So, Why Do We Call It Gotham, Anyway?\", New York Public Library,  January 25, 2011. Accessed March 3, 2023. \"It is here that we learn that the term Gotham is tied to the author Washington Irving, famous for his short stories The Legend of Sleepy Hollow, and Rip Van Winkle.  It\\'s also here that we learn Irving was being less than flattering when he nicknamed the city in 1807.\"\\n\\n^ \"US Gazetteer files: 2010, 2000, and 1990\". United States Census Bureau. February 12, 2011. Retrieved April 23, 2011.\\n\\n^ \"ArcGIS REST Services Directory\". United States Census Bureau. Retrieved September 20, 2022.\\n\\n^ a b \"QuickFacts: New York city, New York\". census.gov. United States Census Bureau. Retrieved January 21, 2023.\\n\\n^ \"New York City\\'s Current Population Estimates and Trends ‚Äì 2022\" (PDF). New York City. Retrieved October 10, 2023.\\n\\n^ \"List of 2020 Census Urban Areas\". census.gov. United States Census Bureau. Retrieved January 8, 2023.', metadata={'source': 'https://en.wikipedia.org/wiki/New_York_City', 'title': 'New York City - Wikipedia', 'language': 'en'}),\n",
       " Document(page_content='Retrieved from \"https://en.wikipedia.org/w/index.php?title=New_York_City&oldid=1188973942\"', metadata={'source': 'https://en.wikipedia.org/wiki/New_York_City', 'title': 'New York City - Wikipedia', 'language': 'en'}),\n",
       " Document(page_content='New York City traces its origins to Fort Amsterdam and a trading post founded on the southern tip of Manhattan Island by Dutch colonists in approximately 1624. The settlement was named New Amsterdam (Dutch: Nieuw Amsterdam) in 1626 and was chartered as a city in 1653. The city came under British control in 1664 and was renamed New York after King Charles II granted the lands to his brother, the Duke of York.[21] The city was temporarily regained by the Dutch in July 1673 and was renamed New Orange; the city has been named New York since November 1674. New York City was the capital of the United States from 1785 until 1790,[22] and has been the largest U.S. city since 1790. The Statue of Liberty greeted millions of immigrants as they came to the U.S. via Ellis Island by ship in the late 19th and early 20th centuries, and is a symbol of the U.S. and its ideals of liberty and peace.[23]', metadata={'source': 'https://en.wikipedia.org/wiki/New_York_City', 'title': 'New York City - Wikipedia', 'language': 'en'}),\n",
       " Document(page_content=\"Etymology\\nSee also: Nicknames of New York City\\nIn 1664, New York was named in honor of the Duke of York (later King James\\xa0II of England).[35] James's elder brother, King Charles\\xa0II, appointed the Duke as proprietor of the former territory of New Netherland, including the city of New Amsterdam, when England seized it from Dutch control.[36]\", metadata={'source': 'https://en.wikipedia.org/wiki/New_York_City', 'title': 'New York City - Wikipedia', 'language': 'en'})]"
      ]
     },
     "metadata": {},
     "output_type": "display_data"
    }
   ],
   "source": [
    "result['source_documents']"
   ]
  },
  {
   "cell_type": "code",
   "execution_count": null,
   "metadata": {},
   "outputs": [
    {
     "data": {
      "text/plain": [
       "0.19642857141875"
      ]
     },
     "metadata": {},
     "output_type": "display_data"
    }
   ],
   "source": [
    "# RagasEvaluatorChain(metric=context_relevancy)(result)['context_relevancy_score']"
   ]
  }
 ],
 "metadata": {
  "environment": {
   "kernel": "conda-env-ai_explorations-py",
   "name": "workbench-notebooks.m113",
   "type": "gcloud",
   "uri": "gcr.io/deeplearning-platform-release/workbench-notebooks:m113"
  },
  "kernelspec": {
   "display_name": "Python 3 (ai_explorations) (Local)",
   "language": "python",
   "name": "conda-env-ai_explorations-py"
  },
  "language_info": {
   "codemirror_mode": {
    "name": "ipython",
    "version": 3
   },
   "file_extension": ".py",
   "mimetype": "text/x-python",
   "name": "python",
   "nbconvert_exporter": "python",
   "pygments_lexer": "ipython3",
   "version": "3.10.13"
  }
 },
 "nbformat": 4,
 "nbformat_minor": 4
}
